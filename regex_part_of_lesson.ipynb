{
 "cells": [
  {
   "cell_type": "code",
   "execution_count": 1,
   "id": "156744c1-0e91-4e9c-a6ee-790599878353",
   "metadata": {},
   "outputs": [],
   "source": [
    "import re"
   ]
  },
  {
   "cell_type": "code",
   "execution_count": 2,
   "id": "04446add-08b9-4fa6-8032-eeb5266b036b",
   "metadata": {},
   "outputs": [
    {
     "data": {
      "text/plain": [
       "<re.Match object; span=(0, 4), match='abc1'>"
      ]
     },
     "execution_count": 2,
     "metadata": {},
     "output_type": "execute_result"
    }
   ],
   "source": [
    "# \\w matches [a-zA-Z0-9_]\n",
    "re.search(r'\\w{4}', 'abc123')"
   ]
  },
  {
   "cell_type": "code",
   "execution_count": 3,
   "id": "d3c0d7ca-a626-4e96-bdac-ca5b3555adc0",
   "metadata": {},
   "outputs": [
    {
     "data": {
      "text/plain": [
       "<re.Match object; span=(0, 4), match='abc1'>"
      ]
     },
     "execution_count": 3,
     "metadata": {},
     "output_type": "execute_result"
    }
   ],
   "source": [
    "# \\w matches [a-zA-Z0-9_]\n",
    "re.search(r'\\w{1,4}', 'abc123')\n",
    "# {1,4} = at least 1 but up to 4 matches"
   ]
  },
  {
   "cell_type": "code",
   "execution_count": 4,
   "id": "f02655cc-12f6-4f2c-b0f1-3529fa1dcd95",
   "metadata": {},
   "outputs": [
    {
     "data": {
      "text/plain": [
       "<re.Match object; span=(0, 3), match='abc'>"
      ]
     },
     "execution_count": 4,
     "metadata": {},
     "output_type": "execute_result"
    }
   ],
   "source": [
    "# \\w matches [a-zA-Z0-9_]\n",
    "re.search(r'\\w{1,4}', 'abc 123')\n",
    "# note that spaces break the \\w match"
   ]
  },
  {
   "cell_type": "code",
   "execution_count": 6,
   "id": "f4f11c10-e11c-45c1-8e7e-1b48392fd9d8",
   "metadata": {},
   "outputs": [
    {
     "data": {
      "text/plain": [
       "<re.Match object; span=(0, 1), match='F'>"
      ]
     },
     "execution_count": 6,
     "metadata": {},
     "output_type": "execute_result"
    }
   ],
   "source": [
    "# the metacharacter + matches 1 or more of the pattern to the left of the + character\n",
    "# it is greedy - like *\n",
    "re.search(r'f|F+', 'Fred asked a good question')"
   ]
  },
  {
   "cell_type": "code",
   "execution_count": 8,
   "id": "c514378b-f520-4885-93c9-f8174d4be933",
   "metadata": {},
   "outputs": [
    {
     "data": {
      "text/plain": [
       "<re.Match object; span=(0, 26), match='Fred asked a good question'>"
      ]
     },
     "execution_count": 8,
     "metadata": {},
     "output_type": "execute_result"
    }
   ],
   "source": [
    "# the metacharacter + matches 1 or more of the pattern to the left of the + character\n",
    "# it is greedy - like *\n",
    "re.search(r'f|F.*', 'Fred asked a good question')\n",
    "# the period is asking for anything, the asterix is allowing any number of matches"
   ]
  },
  {
   "cell_type": "code",
   "execution_count": 9,
   "id": "b9f4794f-aa2d-49c4-a3b4-62ba2ee6f43d",
   "metadata": {},
   "outputs": [
    {
     "data": {
      "text/plain": [
       "<re.Match object; span=(0, 26), match='Fred asked a good question'>"
      ]
     },
     "execution_count": 9,
     "metadata": {},
     "output_type": "execute_result"
    }
   ],
   "source": [
    "# the metacharacter + matches 1 or more of the pattern to the left of the + character\n",
    "# it is greedy - like *\n",
    "re.search(r'f|F.+', 'Fred asked a good question')\n",
    "# the period is asking for anything, the asterix is allowing any number of matches"
   ]
  },
  {
   "cell_type": "code",
   "execution_count": 14,
   "id": "a736da06-5b8b-4034-8602-d8e5a61c5861",
   "metadata": {},
   "outputs": [
    {
     "data": {
      "text/plain": [
       "<re.Match object; span=(0, 5), match='stuff'>"
      ]
     },
     "execution_count": 14,
     "metadata": {},
     "output_type": "execute_result"
    }
   ],
   "source": [
    "# what if we want only letters and not letters + numbers + the _ character\n",
    "re.search(r'[^\\W]*', 'stuff and things and 123')"
   ]
  },
  {
   "cell_type": "code",
   "execution_count": 15,
   "id": "986a6605-81e3-4977-ad7e-d6a186925640",
   "metadata": {},
   "outputs": [
    {
     "data": {
      "text/plain": [
       "<re.Match object; span=(0, 5), match='stuff'>"
      ]
     },
     "execution_count": 15,
     "metadata": {},
     "output_type": "execute_result"
    }
   ],
   "source": [
    "# what if we want only letters and not letters + numbers + the _ character\n",
    "re.search(r'[a-zA-Z]*', 'stuff and things and 123')"
   ]
  },
  {
   "cell_type": "code",
   "execution_count": 17,
   "id": "d3d4f17a-5d84-4633-bcb9-095633dac700",
   "metadata": {},
   "outputs": [
    {
     "data": {
      "text/plain": [
       "['abc123', 'the', 'place', 'seasame', 'street']"
      ]
     },
     "execution_count": 17,
     "metadata": {},
     "output_type": "execute_result"
    }
   ],
   "source": [
    "# {n, } matches n or more times\n",
    "re.findall(r'\\w{3,}', 'abc123 is the place to be, on seasame street')\n",
    "# curly brace {1,} is like the + \n",
    "# curly brace {0, } is like the *"
   ]
  },
  {
   "cell_type": "code",
   "execution_count": null,
   "id": "c287c117-2663-4dd9-87ca-ae294f8bfb70",
   "metadata": {},
   "outputs": [],
   "source": [
    "# {n, } matches n or more times\n",
    "# \\w+ means one or more alphanumerics\n",
    "# \\w{1,} means the same thing"
   ]
  },
  {
   "cell_type": "markdown",
   "id": "64c51ccb-7eb5-4587-8a93-8f0ff85339a9",
   "metadata": {},
   "source": [
    "# Anchors\n",
    "\n",
    "## There are several special metacharacters that don't match any individual characters, but serve as an \"anchor\" for the rest of the regular expression.\n",
    "\n",
    "\n",
    "\n",
    "- ^  The start of the string/line\n",
    "\n",
    "- $  The end of the string/line\n",
    "\n",
    "- \\b  A word boundary"
   ]
  },
  {
   "cell_type": "markdown",
   "id": "7a21d458-eeff-41a6-801a-e40c332125a1",
   "metadata": {},
   "source": [
    "#### 3 digits then a single character of any then 4 digits"
   ]
  },
  {
   "cell_type": "code",
   "execution_count": 18,
   "id": "e844ef94-aa8a-4773-a37a-9ea2d404042a",
   "metadata": {},
   "outputs": [
    {
     "data": {
      "text/plain": [
       "<re.Match object; span=(6, 14), match='574-5860'>"
      ]
     },
     "execution_count": 18,
     "metadata": {},
     "output_type": "execute_result"
    }
   ],
   "source": [
    "\n",
    "re.search(r'\\d{3}.\\d{4}', '(918)-574-5860')"
   ]
  },
  {
   "cell_type": "markdown",
   "id": "670db68e-7738-4c52-b268-a9bea078ecbc",
   "metadata": {},
   "source": [
    "#### what if the delimiter is optional?\n",
    "#### question mark metacharacter means the thing to the left of the ? is optional\n",
    "#### 3 digits then a single character of any then 4 digits"
   ]
  },
  {
   "cell_type": "code",
   "execution_count": 21,
   "id": "239b54f0-5031-4db7-88c8-c9b8234834e3",
   "metadata": {},
   "outputs": [
    {
     "data": {
      "text/plain": [
       "<re.Match object; span=(6, 14), match='574-5860'>"
      ]
     },
     "execution_count": 21,
     "metadata": {},
     "output_type": "execute_result"
    }
   ],
   "source": [
    "re.search(r'\\d{3}.\\d{4}', '(918)-574-5860')"
   ]
  },
  {
   "cell_type": "code",
   "execution_count": 22,
   "id": "8560250b-74d0-4edc-8394-26d5511720e6",
   "metadata": {},
   "outputs": [
    {
     "data": {
      "text/plain": [
       "<re.Match object; span=(6, 14), match='574-5860'>"
      ]
     },
     "execution_count": 22,
     "metadata": {},
     "output_type": "execute_result"
    }
   ],
   "source": [
    "re.search(r'\\d{3}.?\\d{4}', '(918)-574-5860')"
   ]
  },
  {
   "cell_type": "code",
   "execution_count": null,
   "id": "8f3ad58f-2fdd-441f-8dd5-66cd81ffe825",
   "metadata": {},
   "outputs": [],
   "source": []
  }
 ],
 "metadata": {
  "kernelspec": {
   "display_name": "Python 3 (ipykernel)",
   "language": "python",
   "name": "python3"
  },
  "language_info": {
   "codemirror_mode": {
    "name": "ipython",
    "version": 3
   },
   "file_extension": ".py",
   "mimetype": "text/x-python",
   "name": "python",
   "nbconvert_exporter": "python",
   "pygments_lexer": "ipython3",
   "version": "3.9.15"
  }
 },
 "nbformat": 4,
 "nbformat_minor": 5
}
