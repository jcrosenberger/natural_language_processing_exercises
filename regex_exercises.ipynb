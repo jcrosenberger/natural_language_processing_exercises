{
 "cells": [
  {
   "cell_type": "code",
   "execution_count": 121,
   "id": "ce5913a3-5583-4565-98a0-edd7c903932c",
   "metadata": {},
   "outputs": [],
   "source": [
    "import re\n",
    "import numpy as np\n",
    "import pandas as pd"
   ]
  },
  {
   "cell_type": "markdown",
   "id": "d21075af-fe0a-440d-b492-68997720ac24",
   "metadata": {},
   "source": [
    "1. Write a function named is_vowel. It should accept a string as input and use a regular expression to determine if the passed string is a vowel. While not explicity mentioned in the lesson, you can treat the result of re.search as a boolean value that indicates whether or not the regular expression matches the given string.\n",
    "\n",
    "2. Write a function named is_valid_username that accepts a string as input. A valid username starts with a lowercase letter, and only consists of lowercase letters, numbers, or the _ character. It should also be no longer than 32 characters. The function should return either True or False depending on whether the passed string is a valid username.\n",
    "\n",
    "\n",
    ">>> is_valid_username('aaaaaaaaaaaaaaaaaaaaaaaaaaaaaaaaa')\n",
    "False\n",
    ">>> is_valid_username('codeup')\n",
    "True\n",
    ">>> is_valid_username('Codeup')\n",
    "False\n",
    ">>> is_valid_username('codeup123')\n",
    "True\n",
    ">>> is_valid_username('1codeup')\n",
    "False\n",
    "\n",
    "3. Write a regular expression to capture phone numbers. It should match all of the following:\n",
    "\n",
    "\n",
    "(210) 867 5309\n",
    "+1 210.867.5309\n",
    "867-5309\n",
    "210-867-5309\n",
    "\n",
    "4. Use regular expressions to convert the dates below to the standardized year-month-day format.\n",
    "\n",
    "\n",
    "02/04/19\n",
    "02/05/19\n",
    "02/06/19\n",
    "02/07/19\n",
    "02/08/19\n",
    "02/09/19\n",
    "02/10/19\n",
    "\n",
    "5. Write a regex to extract the various parts of these logfile lines:\n",
    "\n",
    "\n",
    "GET /api/v1/sales?page=86 [16/Apr/2019:193452+0000] HTTP/1.1 {200} 510348 \"python-requests/2.21.0\" 97.105.19.58\n",
    "POST /users_accounts/file-upload [16/Apr/2019:193452+0000] HTTP/1.1 {201} 42 \"User-Agent: Mozilla/5.0 (X11; Fedora; Fedora; Linux x86_64) AppleWebKit/537.36 (KHTML, like Gecko) Chrome/73.0.3683.86 Safari/537.36\" 97.105.19.58\n",
    "GET /api/v1/items?page=3 [16/Apr/2019:193453+0000] HTTP/1.1 {429} 3561 \"python-requests/2.21.0\" 97.105.19.58"
   ]
  },
  {
   "cell_type": "markdown",
   "id": "2fee27ed-3ebc-466a-971d-b2c26aead190",
   "metadata": {},
   "source": [
    "<div class = \"alert alert-block alert-info\">\n",
    "    \n",
    "# 1. Write a function named is_vowel. It should accept a string as input and use a regular expression to determine if the passed string is a vowel. While not explicity mentioned in the lesson, you can treat the result of re.search as a boolean value that indicates whether or not the regular expression matches the given string."
   ]
  },
  {
   "cell_type": "code",
   "execution_count": 107,
   "id": "b6f15119-4809-474f-b89f-cb7a48af7d46",
   "metadata": {},
   "outputs": [],
   "source": [
    "'''\n",
    "I assume that is_vowel is determining whether there is a vowel anywhere in the text\n",
    "of the string passed to it\n",
    "'''\n",
    "def is_vowel(value):\n",
    "    if re.search(r'[aeiou]', value.lower()):\n",
    "        return(True)\n",
    "    else:\n",
    "        return(False)"
   ]
  },
  {
   "cell_type": "code",
   "execution_count": 110,
   "id": "88ff7781-e3c2-484e-9a63-df373cab3a58",
   "metadata": {},
   "outputs": [
    {
     "data": {
      "text/plain": [
       "(True, False, True)"
      ]
     },
     "execution_count": 110,
     "metadata": {},
     "output_type": "execute_result"
    }
   ],
   "source": [
    "# text has a vowel\n",
    "text = 'fdaskj'\n",
    "# antitext does not have a vowel\n",
    "antitext = 'fdskj494'\n",
    "# cap_text has capital letters\n",
    "cap_text = 'fKDFKaiaLK'\n",
    "\n",
    "is_vowel(text), is_vowel(antitext), is_vowel(cap_text)"
   ]
  },
  {
   "cell_type": "markdown",
   "id": "8695d00b-20ab-4c28-97b2-42945dcf5461",
   "metadata": {},
   "source": [
    "<div class = \"alert alert-block alert-info\">\n",
    "    \n",
    "# 2. Write a function named is_valid_username that accepts a string as input. A valid username starts with a lowercase letter, and only consists of lowercase letters, numbers, or the _ character. It should also be no longer than 32 characters. The function should return either True or False depending on whether the passed string is a valid username."
   ]
  },
  {
   "cell_type": "code",
   "execution_count": 67,
   "id": "80a4e93e-336d-4b2c-a5a1-6541edae9fbc",
   "metadata": {},
   "outputs": [],
   "source": [
    "short = 'dsfjd'\n",
    "long = 'gjfkdie93kfks93dkdfifidskwiskdifieowkdsoeudfhewiweqhfj'\n",
    "bad_character_1 = 'fjdiekl.djfh$'\n",
    "bad_character_2 = 'Fjdiekl.djfh$'\n",
    "valid = 'tidkejhfhds4837dfkdhj'\n",
    "\n",
    "#re.search(r'^[a-z]\\w{7,31}', test_string)\n",
    "#len(re.search(r'^[a-z]\\w*', long).group()) <33"
   ]
  },
  {
   "cell_type": "code",
   "execution_count": 56,
   "id": "df6d25e6-cca8-440b-84b5-b72c91f074e9",
   "metadata": {},
   "outputs": [],
   "source": [
    "def is_valid_username(value):\n",
    "    \n",
    "    value_1 = re.search(r'^[a-z]\\w{7,31}', value)\n",
    "    value_2 = len(re.search(r'^[a-z]\\w*', value).group()) <33\n",
    "    if value_1 and value_2:\n",
    "        return(True)\n",
    "    else:\n",
    "        return(False)"
   ]
  },
  {
   "cell_type": "code",
   "execution_count": 66,
   "id": "e293155c-2dc6-4b27-b567-c7104858cac1",
   "metadata": {},
   "outputs": [
    {
     "data": {
      "text/plain": [
       "(False, False, False, False, True)"
      ]
     },
     "execution_count": 66,
     "metadata": {},
     "output_type": "execute_result"
    }
   ],
   "source": [
    "is_valid_username(short), is_valid_username(long), is_valid_username(bad_character_1), is_valid_username(bad_character_1), is_valid_username(valid)"
   ]
  },
  {
   "cell_type": "markdown",
   "id": "62c86a57-c3d2-4d93-b788-67862941b00a",
   "metadata": {},
   "source": [
    "<div class = \"alert alert-block alert-info\">\n",
    "    \n",
    "## 3. Write a regular expression to capture phone numbers. It should match all of the following:"
   ]
  },
  {
   "cell_type": "code",
   "execution_count": 93,
   "id": "9fd5bb61-4dda-492d-9110-b1ff83a9538d",
   "metadata": {},
   "outputs": [],
   "source": [
    "phone_1 = '(210) 867 5309'\n",
    "phone_2 = '+1 210.867.5309'\n",
    "phone_3 = '867-5309'\n",
    "phone_4 = '210-867-5309'\n",
    "\n",
    "phone_bank = [phone_1, phone_2, phone_3, phone_4]"
   ]
  },
  {
   "cell_type": "code",
   "execution_count": 132,
   "id": "442b96ce-9ad5-4409-8ae6-c33327035d5b",
   "metadata": {},
   "outputs": [
    {
     "name": "stdout",
     "output_type": "stream",
     "text": [
      "/\n",
      "{'/some-value/here'}\n"
     ]
    }
   ],
   "source": [
    "item = r'/'\n",
    "value = '/some-value/here'\n",
    "value1 = 'sokmdke'\n",
    "add_to_value: https://www.\n",
    "if re.search(f'{item}', value):\n",
    "    print({value})"
   ]
  },
  {
   "cell_type": "code",
   "execution_count": 119,
   "id": "ab5464a0-c1a8-487a-ba1e-53f8b39c8b8c",
   "metadata": {},
   "outputs": [
    {
     "data": {
      "text/plain": [
       "<re.Match object; span=(0, 14), match='(210) 867 5309'>"
      ]
     },
     "execution_count": 119,
     "metadata": {},
     "output_type": "execute_result"
    }
   ],
   "source": [
    "master_match = r'(\\+?\\d+)?.?(\\(?\\d{3}\\)?)?.?\\d{3}.?\\d{4}'\n",
    "re.search(master_match, phone_1)"
   ]
  },
  {
   "cell_type": "code",
   "execution_count": 118,
   "id": "14ae716b-8a8a-4f92-be46-62b61b251a6c",
   "metadata": {},
   "outputs": [],
   "source": [
    "def is_phone(value):\n",
    "    match1 = r'\\d{3}.\\d{3}.?\\d{4}'\n",
    "    match2 = r'\\d{3}.?\\d{4}'\n",
    "    match3 = r'.\\d{3}.\\s\\d{3}\\s\\d{4}'\n",
    "    match4 = r'.\\d\\s\\d{3}.\\d{3}.\\d{4}'\n",
    "    master_match = r'(\\+?\\d+)?.?(\\(?\\d{3}\\)?)?.?\\d{3}.?\\d{4}'\n",
    "    \n",
    "    match_list = [match1, match2, match3, match4, master_match]\n",
    "    \n",
    "    for item in match_list:\n",
    "        #if re.search('{}'.format(item), value):\n",
    "        if re.search(f'{item}', value):\n",
    "            return(True)\n",
    "    return(False)\n",
    "                     "
   ]
  },
  {
   "cell_type": "code",
   "execution_count": null,
   "id": "a99ade2c-4dc7-4069-a80f-3dafd1601d4b",
   "metadata": {},
   "outputs": [],
   "source": [
    "master_match = '(\\+?\\d+)?.?(\\(?\\d{3}\\)?)?.?\\d{3}.?\\d{4}'"
   ]
  },
  {
   "cell_type": "code",
   "execution_count": 106,
   "id": "31124a95-6fd3-4a42-8d96-50ecfcbbffbd",
   "metadata": {},
   "outputs": [
    {
     "name": "stdout",
     "output_type": "stream",
     "text": [
      "True\n",
      "True\n",
      "True\n",
      "True\n"
     ]
    }
   ],
   "source": [
    "for item in phone_bank:\n",
    "    print(is_phone(item))"
   ]
  },
  {
   "cell_type": "markdown",
   "id": "9c0b0907-c406-4f23-8033-8ba3ca82fcc9",
   "metadata": {},
   "source": [
    "<div class = \"alert alert-block alert-info\">\n",
    "    \n",
    "## 4. Use regular expressions to convert the dates below to the standardized year-month-day format."
   ]
  },
  {
   "cell_type": "code",
   "execution_count": 125,
   "id": "ed2a87f6-7ae4-4a06-bfbb-4fc1b9bfa662",
   "metadata": {},
   "outputs": [],
   "source": [
    "date_bank = pd.Series([\n",
    "    '02/04/19',\n",
    "    '02/05/19',\n",
    "    '02/06/19',\n",
    "    '02/07/19',\n",
    "    '02/08/19',\n",
    "    '02/09/19',\n",
    "    '02/10/19'\n",
    "])"
   ]
  },
  {
   "cell_type": "code",
   "execution_count": 126,
   "id": "be6429ec-58c4-4a1e-9ee4-72bc93f5230a",
   "metadata": {},
   "outputs": [
    {
     "data": {
      "text/plain": [
       "0    02/04/19\n",
       "1    02/05/19\n",
       "2    02/06/19\n",
       "3    02/07/19\n",
       "4    02/08/19\n",
       "5    02/09/19\n",
       "6    02/10/19\n",
       "dtype: object"
      ]
     },
     "execution_count": 126,
     "metadata": {},
     "output_type": "execute_result"
    }
   ],
   "source": [
    "date_bank"
   ]
  },
  {
   "cell_type": "code",
   "execution_count": null,
   "id": "b5e0be3d-d3c7-4b4c-ab82-f3a0ea283637",
   "metadata": {},
   "outputs": [],
   "source": []
  }
 ],
 "metadata": {
  "kernelspec": {
   "display_name": "Python 3 (ipykernel)",
   "language": "python",
   "name": "python3"
  },
  "language_info": {
   "codemirror_mode": {
    "name": "ipython",
    "version": 3
   },
   "file_extension": ".py",
   "mimetype": "text/x-python",
   "name": "python",
   "nbconvert_exporter": "python",
   "pygments_lexer": "ipython3",
   "version": "3.9.15"
  }
 },
 "nbformat": 4,
 "nbformat_minor": 5
}
