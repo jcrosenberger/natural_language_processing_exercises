{
 "cells": [
  {
   "cell_type": "code",
   "execution_count": 2,
   "id": "d7ca0658-45df-4c14-8d34-7786a5f41295",
   "metadata": {},
   "outputs": [],
   "source": [
    "import re\n",
    "import unicodedata\n",
    "import pandas as pd\n",
    "import nltk\n",
    "\n",
    "import env "
   ]
  },
  {
   "cell_type": "code",
   "execution_count": 3,
   "id": "11f7737d-4544-4285-b388-b4cbd6701607",
   "metadata": {},
   "outputs": [],
   "source": [
    "url = env.get_db_url('spam_db')\n",
    "sql = '''SELECT *\n",
    "        FROM spam'''\n",
    "df = pd.read_sql(sql, url, index_col= 'id')\n",
    "\n",
    "df.head()"
   ]
  },
  {
   "cell_type": "code",
   "execution_count": 6,
   "id": "59a36352-86d3-469a-ae64-dfa275a81d49",
   "metadata": {},
   "outputs": [],
   "source": [
    "additional_stopwords = ['r', 'u', '2', 'ltgt']"
   ]
  },
  {
   "cell_type": "code",
   "execution_count": 8,
   "id": "d6adcc4c-809b-4db4-9f02-3a451014e8c5",
   "metadata": {},
   "outputs": [],
   "source": [
    "def clean(text):\n",
    "    'copying cleaning function from curriculum'\n",
    "    additional_stopwords = ['r', 'u', '2', 'ltgt']    \n",
    "    wnl = nltk.stem.WordNetLemmatizer()\n",
    "    stopwords = nltk.corpus.stopwords.words('english') + additional_stopwords\n",
    "    text = (unicodedata.normalize('NFKD', text)\n",
    "            .encode('ascii', 'ignore')\n",
    "            .decode('utf-8', 'ignore')\n",
    "            .lower())\n",
    "    words = re.sub(r'[^\\w\\s]', '',text).split()\n",
    "    return [wnl.lemmatize(word) for word in words if word not in stopwords]"
   ]
  },
  {
   "cell_type": "markdown",
   "id": "593cc2d6-6246-4265-a0a7-45b45834df64",
   "metadata": {},
   "source": [
    "#### determine how many messages are spam compared to ham"
   ]
  },
  {
   "cell_type": "code",
   "execution_count": 9,
   "id": "6e480187-038b-45e3-b05a-6475b60e928a",
   "metadata": {},
   "outputs": [
    {
     "data": {
      "text/html": [
       "<div>\n",
       "<style scoped>\n",
       "    .dataframe tbody tr th:only-of-type {\n",
       "        vertical-align: middle;\n",
       "    }\n",
       "\n",
       "    .dataframe tbody tr th {\n",
       "        vertical-align: top;\n",
       "    }\n",
       "\n",
       "    .dataframe thead th {\n",
       "        text-align: right;\n",
       "    }\n",
       "</style>\n",
       "<table border=\"1\" class=\"dataframe\">\n",
       "  <thead>\n",
       "    <tr style=\"text-align: right;\">\n",
       "      <th></th>\n",
       "      <th>n</th>\n",
       "      <th>percent</th>\n",
       "    </tr>\n",
       "  </thead>\n",
       "  <tbody>\n",
       "    <tr>\n",
       "      <th>ham</th>\n",
       "      <td>4825</td>\n",
       "      <td>0.865937</td>\n",
       "    </tr>\n",
       "    <tr>\n",
       "      <th>spam</th>\n",
       "      <td>747</td>\n",
       "      <td>0.134063</td>\n",
       "    </tr>\n",
       "  </tbody>\n",
       "</table>\n",
       "</div>"
      ],
      "text/plain": [
       "         n   percent\n",
       "ham   4825  0.865937\n",
       "spam   747  0.134063"
      ]
     },
     "execution_count": 9,
     "metadata": {},
     "output_type": "execute_result"
    }
   ],
   "source": [
    "'''\n",
    "from pd, constructs and concats two numpy arrays into one dataframe named 'labels', \n",
    "one with the count of values from the pd.labels column\n",
    "the other the percentage of values from pd.labels column\n",
    "'''\n",
    "\n",
    "labels = pd.concat([df.label.value_counts(),\n",
    "                    df.label.value_counts(normalize=True)], axis=1)\n",
    "labels.columns = ['n','percent']\n",
    "labels"
   ]
  },
  {
   "cell_type": "markdown",
   "id": "16d2caac-5657-4e35-a768-f8eee0d028e4",
   "metadata": {},
   "source": [
    "#### make function to get figures for counts of one outcome compared to another"
   ]
  },
  {
   "cell_type": "code",
   "execution_count": 17,
   "id": "e92928bc-dd5f-4f57-bf6b-ba0a80b5b54b",
   "metadata": {},
   "outputs": [],
   "source": [
    "def show_counts_and_ratios(df, column):\n",
    "    '''\n",
    "    from pd, constructs and concats two numpy arrays into one dataframe which is returned, \n",
    "    one with the count of values from df.column\n",
    "    the other the percentage of values from df.column\n",
    "    '''\n",
    "    labels = pd.concat([df[column].value_counts(),\n",
    "                        df[column].value_counts(normalize=True)], axis =1)\n",
    "    labels.columns = ['count', 'percent']\n",
    "    \n",
    "    return labels"
   ]
  },
  {
   "cell_type": "code",
   "execution_count": 18,
   "id": "74db91f6-48ee-4e13-aab5-0c14a3bfe0f4",
   "metadata": {},
   "outputs": [
    {
     "data": {
      "text/html": [
       "<div>\n",
       "<style scoped>\n",
       "    .dataframe tbody tr th:only-of-type {\n",
       "        vertical-align: middle;\n",
       "    }\n",
       "\n",
       "    .dataframe tbody tr th {\n",
       "        vertical-align: top;\n",
       "    }\n",
       "\n",
       "    .dataframe thead th {\n",
       "        text-align: right;\n",
       "    }\n",
       "</style>\n",
       "<table border=\"1\" class=\"dataframe\">\n",
       "  <thead>\n",
       "    <tr style=\"text-align: right;\">\n",
       "      <th></th>\n",
       "      <th>count</th>\n",
       "      <th>percent</th>\n",
       "    </tr>\n",
       "  </thead>\n",
       "  <tbody>\n",
       "    <tr>\n",
       "      <th>ham</th>\n",
       "      <td>4825</td>\n",
       "      <td>0.865937</td>\n",
       "    </tr>\n",
       "    <tr>\n",
       "      <th>spam</th>\n",
       "      <td>747</td>\n",
       "      <td>0.134063</td>\n",
       "    </tr>\n",
       "  </tbody>\n",
       "</table>\n",
       "</div>"
      ],
      "text/plain": [
       "      count   percent\n",
       "ham    4825  0.865937\n",
       "spam    747  0.134063"
      ]
     },
     "execution_count": 18,
     "metadata": {},
     "output_type": "execute_result"
    }
   ],
   "source": [
    "show_counts_and_ratios(df, 'label')"
   ]
  },
  {
   "cell_type": "markdown",
   "id": "78b7b182-55fe-4ee0-831d-d398a10c7125",
   "metadata": {},
   "source": [
    "#### splitting our dataframe into text file with words from each type of message -> spam or ham"
   ]
  },
  {
   "cell_type": "code",
   "execution_count": 19,
   "id": "0e3de615-03d7-41a4-887c-2fceb776bafb",
   "metadata": {},
   "outputs": [],
   "source": [
    "ham_words = clean(' '.join(df[df['label'] == 'ham'].text))\n",
    "spam_words = clean(' '.join(df[df['label'] == 'spam'].text))\n",
    "all_words = clean(' '.join(df.text))"
   ]
  },
  {
   "cell_type": "markdown",
   "id": "7224bbe2-a8d8-4f53-84c8-513cc1f1393b",
   "metadata": {},
   "source": [
    "#### getting a series of value counts for each category of message "
   ]
  },
  {
   "cell_type": "code",
   "execution_count": 20,
   "id": "fb8818e9-1fca-4a6c-9c15-6b4d5ce2324c",
   "metadata": {},
   "outputs": [],
   "source": [
    "ham_freq = pd.Series(ham_words).value_counts()\n",
    "spam_freq = pd.Series(spam_words).value_counts()\n",
    "all_freq = pd.Series(all_words).value_counts()"
   ]
  },
  {
   "cell_type": "code",
   "execution_count": 21,
   "id": "17c84a05-b53f-487c-bd30-20d64c88ffae",
   "metadata": {},
   "outputs": [
    {
     "data": {
      "text/plain": [
       "call      359\n",
       "free      216\n",
       "txt       150\n",
       "ur        144\n",
       "text      137\n",
       "mobile    135\n",
       "4         119\n",
       "claim     115\n",
       "stop      113\n",
       "reply     102\n",
       "dtype: int64"
      ]
     },
     "execution_count": 21,
     "metadata": {},
     "output_type": "execute_result"
    }
   ],
   "source": [
    "spam_freq.head(10)"
   ]
  },
  {
   "cell_type": "code",
   "execution_count": 23,
   "id": "27c4a202-ae65-4064-b6d9-44b69b166cd7",
   "metadata": {},
   "outputs": [
    {
     "data": {
      "text/plain": [
       "((6982,), (2814,), (8900,))"
      ]
     },
     "execution_count": 23,
     "metadata": {},
     "output_type": "execute_result"
    }
   ],
   "source": [
    "ham_freq.shape, spam_freq.shape, all_freq.shape"
   ]
  },
  {
   "cell_type": "code",
   "execution_count": 24,
   "id": "00d0c0d3-95c5-42c5-b971-8213357780d5",
   "metadata": {},
   "outputs": [
    {
     "data": {
      "text/html": [
       "<div>\n",
       "<style scoped>\n",
       "    .dataframe tbody tr th:only-of-type {\n",
       "        vertical-align: middle;\n",
       "    }\n",
       "\n",
       "    .dataframe tbody tr th {\n",
       "        vertical-align: top;\n",
       "    }\n",
       "\n",
       "    .dataframe thead th {\n",
       "        text-align: right;\n",
       "    }\n",
       "</style>\n",
       "<table border=\"1\" class=\"dataframe\">\n",
       "  <thead>\n",
       "    <tr style=\"text-align: right;\">\n",
       "      <th></th>\n",
       "      <th>ham</th>\n",
       "      <th>spam</th>\n",
       "      <th>all</th>\n",
       "    </tr>\n",
       "  </thead>\n",
       "  <tbody>\n",
       "    <tr>\n",
       "      <th>0</th>\n",
       "      <td>0</td>\n",
       "      <td>3</td>\n",
       "      <td>3</td>\n",
       "    </tr>\n",
       "    <tr>\n",
       "      <th>008704050406</th>\n",
       "      <td>0</td>\n",
       "      <td>2</td>\n",
       "      <td>2</td>\n",
       "    </tr>\n",
       "    <tr>\n",
       "      <th>0089my</th>\n",
       "      <td>0</td>\n",
       "      <td>1</td>\n",
       "      <td>1</td>\n",
       "    </tr>\n",
       "    <tr>\n",
       "      <th>0121</th>\n",
       "      <td>0</td>\n",
       "      <td>1</td>\n",
       "      <td>1</td>\n",
       "    </tr>\n",
       "    <tr>\n",
       "      <th>01223585236</th>\n",
       "      <td>0</td>\n",
       "      <td>1</td>\n",
       "      <td>1</td>\n",
       "    </tr>\n",
       "  </tbody>\n",
       "</table>\n",
       "</div>"
      ],
      "text/plain": [
       "              ham  spam  all\n",
       "0               0     3    3\n",
       "008704050406    0     2    2\n",
       "0089my          0     1    1\n",
       "0121            0     1    1\n",
       "01223585236     0     1    1"
      ]
     },
     "execution_count": 24,
     "metadata": {},
     "output_type": "execute_result"
    }
   ],
   "source": [
    "word_counts = (pd.concat([ham_freq, spam_freq, all_freq], axis =1, sort = True)\n",
    "               .set_axis(['ham', 'spam', 'all'], axis=1, inplace = False)\n",
    "               .fillna(0)\n",
    "               .apply(lambda s: s.astype(int)))\n",
    "\n",
    "word_counts.head()"
   ]
  },
  {
   "cell_type": "code",
   "execution_count": 28,
   "id": "d15c9fd4-3a22-4fb3-a045-613456fc958d",
   "metadata": {},
   "outputs": [
    {
     "data": {
      "text/html": [
       "<div>\n",
       "<style scoped>\n",
       "    .dataframe tbody tr th:only-of-type {\n",
       "        vertical-align: middle;\n",
       "    }\n",
       "\n",
       "    .dataframe tbody tr th {\n",
       "        vertical-align: top;\n",
       "    }\n",
       "\n",
       "    .dataframe thead th {\n",
       "        text-align: right;\n",
       "    }\n",
       "</style>\n",
       "<table border=\"1\" class=\"dataframe\">\n",
       "  <thead>\n",
       "    <tr style=\"text-align: right;\">\n",
       "      <th></th>\n",
       "      <th>all</th>\n",
       "      <th>ham</th>\n",
       "      <th>spam</th>\n",
       "    </tr>\n",
       "  </thead>\n",
       "  <tbody>\n",
       "    <tr>\n",
       "      <th>0</th>\n",
       "      <td>3</td>\n",
       "      <td>0</td>\n",
       "      <td>3</td>\n",
       "    </tr>\n",
       "    <tr>\n",
       "      <th>008704050406</th>\n",
       "      <td>2</td>\n",
       "      <td>0</td>\n",
       "      <td>2</td>\n",
       "    </tr>\n",
       "    <tr>\n",
       "      <th>0089my</th>\n",
       "      <td>1</td>\n",
       "      <td>0</td>\n",
       "      <td>1</td>\n",
       "    </tr>\n",
       "    <tr>\n",
       "      <th>0121</th>\n",
       "      <td>1</td>\n",
       "      <td>0</td>\n",
       "      <td>1</td>\n",
       "    </tr>\n",
       "    <tr>\n",
       "      <th>01223585236</th>\n",
       "      <td>1</td>\n",
       "      <td>0</td>\n",
       "      <td>1</td>\n",
       "    </tr>\n",
       "  </tbody>\n",
       "</table>\n",
       "</div>"
      ],
      "text/plain": [
       "              all  ham  spam\n",
       "0               3    0     3\n",
       "008704050406    2    0     2\n",
       "0089my          1    0     1\n",
       "0121            1    0     1\n",
       "01223585236     1    0     1"
      ]
     },
     "execution_count": 28,
     "metadata": {},
     "output_type": "execute_result"
    }
   ],
   "source": [
    "word_counts = word_counts[['all', 'ham', 'spam']]\n",
    "word_counts.head()"
   ]
  },
  {
   "cell_type": "markdown",
   "id": "15f04bba-4e9a-4bb5-ae73-818def7fde69",
   "metadata": {},
   "source": [
    "#### which words occured most frequently?"
   ]
  },
  {
   "cell_type": "code",
   "execution_count": 29,
   "id": "0d43097c-fc55-4f4e-9b1c-cc27d52dddcd",
   "metadata": {},
   "outputs": [
    {
     "data": {
      "text/html": [
       "<div>\n",
       "<style scoped>\n",
       "    .dataframe tbody tr th:only-of-type {\n",
       "        vertical-align: middle;\n",
       "    }\n",
       "\n",
       "    .dataframe tbody tr th {\n",
       "        vertical-align: top;\n",
       "    }\n",
       "\n",
       "    .dataframe thead th {\n",
       "        text-align: right;\n",
       "    }\n",
       "</style>\n",
       "<table border=\"1\" class=\"dataframe\">\n",
       "  <thead>\n",
       "    <tr style=\"text-align: right;\">\n",
       "      <th></th>\n",
       "      <th>all</th>\n",
       "      <th>ham</th>\n",
       "      <th>spam</th>\n",
       "    </tr>\n",
       "  </thead>\n",
       "  <tbody>\n",
       "    <tr>\n",
       "      <th>call</th>\n",
       "      <td>600</td>\n",
       "      <td>241</td>\n",
       "      <td>359</td>\n",
       "    </tr>\n",
       "    <tr>\n",
       "      <th>im</th>\n",
       "      <td>462</td>\n",
       "      <td>449</td>\n",
       "      <td>13</td>\n",
       "    </tr>\n",
       "    <tr>\n",
       "      <th>get</th>\n",
       "      <td>397</td>\n",
       "      <td>314</td>\n",
       "      <td>83</td>\n",
       "    </tr>\n",
       "    <tr>\n",
       "      <th>ur</th>\n",
       "      <td>384</td>\n",
       "      <td>240</td>\n",
       "      <td>144</td>\n",
       "    </tr>\n",
       "    <tr>\n",
       "      <th>go</th>\n",
       "      <td>304</td>\n",
       "      <td>273</td>\n",
       "      <td>31</td>\n",
       "    </tr>\n",
       "    <tr>\n",
       "      <th>4</th>\n",
       "      <td>287</td>\n",
       "      <td>168</td>\n",
       "      <td>119</td>\n",
       "    </tr>\n",
       "    <tr>\n",
       "      <th>dont</th>\n",
       "      <td>279</td>\n",
       "      <td>257</td>\n",
       "      <td>22</td>\n",
       "    </tr>\n",
       "    <tr>\n",
       "      <th>ok</th>\n",
       "      <td>277</td>\n",
       "      <td>272</td>\n",
       "      <td>5</td>\n",
       "    </tr>\n",
       "    <tr>\n",
       "      <th>free</th>\n",
       "      <td>275</td>\n",
       "      <td>59</td>\n",
       "      <td>216</td>\n",
       "    </tr>\n",
       "    <tr>\n",
       "      <th>know</th>\n",
       "      <td>267</td>\n",
       "      <td>241</td>\n",
       "      <td>26</td>\n",
       "    </tr>\n",
       "  </tbody>\n",
       "</table>\n",
       "</div>"
      ],
      "text/plain": [
       "      all  ham  spam\n",
       "call  600  241   359\n",
       "im    462  449    13\n",
       "get   397  314    83\n",
       "ur    384  240   144\n",
       "go    304  273    31\n",
       "4     287  168   119\n",
       "dont  279  257    22\n",
       "ok    277  272     5\n",
       "free  275   59   216\n",
       "know  267  241    26"
      ]
     },
     "execution_count": 29,
     "metadata": {},
     "output_type": "execute_result"
    }
   ],
   "source": [
    "word_counts.sort_values(by= 'all', ascending = False).head(10)"
   ]
  },
  {
   "cell_type": "code",
   "execution_count": 31,
   "id": "0bf38212-11e6-4c31-8419-49d980e0b96a",
   "metadata": {},
   "outputs": [
    {
     "data": {
      "text/html": [
       "<div>\n",
       "<style scoped>\n",
       "    .dataframe tbody tr th:only-of-type {\n",
       "        vertical-align: middle;\n",
       "    }\n",
       "\n",
       "    .dataframe tbody tr th {\n",
       "        vertical-align: top;\n",
       "    }\n",
       "\n",
       "    .dataframe thead th {\n",
       "        text-align: right;\n",
       "    }\n",
       "</style>\n",
       "<table border=\"1\" class=\"dataframe\">\n",
       "  <thead>\n",
       "    <tr style=\"text-align: right;\">\n",
       "      <th></th>\n",
       "      <th>all</th>\n",
       "      <th>ham</th>\n",
       "      <th>spam</th>\n",
       "    </tr>\n",
       "  </thead>\n",
       "  <tbody>\n",
       "    <tr>\n",
       "      <th>didnt</th>\n",
       "      <td>79</td>\n",
       "      <td>79</td>\n",
       "      <td>0</td>\n",
       "    </tr>\n",
       "    <tr>\n",
       "      <th>amp</th>\n",
       "      <td>82</td>\n",
       "      <td>82</td>\n",
       "      <td>0</td>\n",
       "    </tr>\n",
       "    <tr>\n",
       "      <th>said</th>\n",
       "      <td>86</td>\n",
       "      <td>86</td>\n",
       "      <td>0</td>\n",
       "    </tr>\n",
       "    <tr>\n",
       "      <th>ask</th>\n",
       "      <td>88</td>\n",
       "      <td>88</td>\n",
       "      <td>0</td>\n",
       "    </tr>\n",
       "    <tr>\n",
       "      <th>thats</th>\n",
       "      <td>94</td>\n",
       "      <td>94</td>\n",
       "      <td>0</td>\n",
       "    </tr>\n",
       "    <tr>\n",
       "      <th>i_</th>\n",
       "      <td>117</td>\n",
       "      <td>117</td>\n",
       "      <td>0</td>\n",
       "    </tr>\n",
       "    <tr>\n",
       "      <th>say</th>\n",
       "      <td>118</td>\n",
       "      <td>118</td>\n",
       "      <td>0</td>\n",
       "    </tr>\n",
       "    <tr>\n",
       "      <th>da</th>\n",
       "      <td>132</td>\n",
       "      <td>132</td>\n",
       "      <td>0</td>\n",
       "    </tr>\n",
       "    <tr>\n",
       "      <th>later</th>\n",
       "      <td>134</td>\n",
       "      <td>134</td>\n",
       "      <td>0</td>\n",
       "    </tr>\n",
       "    <tr>\n",
       "      <th>lor</th>\n",
       "      <td>160</td>\n",
       "      <td>160</td>\n",
       "      <td>0</td>\n",
       "    </tr>\n",
       "    <tr>\n",
       "      <th>a150</th>\n",
       "      <td>27</td>\n",
       "      <td>0</td>\n",
       "      <td>27</td>\n",
       "    </tr>\n",
       "    <tr>\n",
       "      <th>a2000</th>\n",
       "      <td>31</td>\n",
       "      <td>0</td>\n",
       "      <td>31</td>\n",
       "    </tr>\n",
       "    <tr>\n",
       "      <th>150ppm</th>\n",
       "      <td>34</td>\n",
       "      <td>0</td>\n",
       "      <td>34</td>\n",
       "    </tr>\n",
       "    <tr>\n",
       "      <th>a1000</th>\n",
       "      <td>35</td>\n",
       "      <td>0</td>\n",
       "      <td>35</td>\n",
       "    </tr>\n",
       "    <tr>\n",
       "      <th>awarded</th>\n",
       "      <td>38</td>\n",
       "      <td>0</td>\n",
       "      <td>38</td>\n",
       "    </tr>\n",
       "    <tr>\n",
       "      <th>18</th>\n",
       "      <td>43</td>\n",
       "      <td>0</td>\n",
       "      <td>43</td>\n",
       "    </tr>\n",
       "    <tr>\n",
       "      <th>guaranteed</th>\n",
       "      <td>50</td>\n",
       "      <td>0</td>\n",
       "      <td>50</td>\n",
       "    </tr>\n",
       "    <tr>\n",
       "      <th>tone</th>\n",
       "      <td>73</td>\n",
       "      <td>0</td>\n",
       "      <td>73</td>\n",
       "    </tr>\n",
       "    <tr>\n",
       "      <th>prize</th>\n",
       "      <td>94</td>\n",
       "      <td>0</td>\n",
       "      <td>94</td>\n",
       "    </tr>\n",
       "    <tr>\n",
       "      <th>claim</th>\n",
       "      <td>115</td>\n",
       "      <td>0</td>\n",
       "      <td>115</td>\n",
       "    </tr>\n",
       "  </tbody>\n",
       "</table>\n",
       "</div>"
      ],
      "text/plain": [
       "            all  ham  spam\n",
       "didnt        79   79     0\n",
       "amp          82   82     0\n",
       "said         86   86     0\n",
       "ask          88   88     0\n",
       "thats        94   94     0\n",
       "i_          117  117     0\n",
       "say         118  118     0\n",
       "da          132  132     0\n",
       "later       134  134     0\n",
       "lor         160  160     0\n",
       "a150         27    0    27\n",
       "a2000        31    0    31\n",
       "150ppm       34    0    34\n",
       "a1000        35    0    35\n",
       "awarded      38    0    38\n",
       "18           43    0    43\n",
       "guaranteed   50    0    50\n",
       "tone         73    0    73\n",
       "prize        94    0    94\n",
       "claim       115    0   115"
      ]
     },
     "execution_count": 31,
     "metadata": {},
     "output_type": "execute_result"
    }
   ],
   "source": [
    "uniquely_used = pd.concat([word_counts[word_counts['spam'] == 0].sort_values(by='ham').tail(10),\n",
    "                           word_counts[word_counts['ham'] == 0].sort_values(by='spam').tail(10)])\n",
    "uniquely_used"
   ]
  },
  {
   "cell_type": "markdown",
   "id": "dec96fc4-5d95-4bdc-9a01-99db09165953",
   "metadata": {},
   "source": [
    "<div class = 'alert alert-block alert-info'>\n",
    "    \n",
    "# Vizualization"
   ]
  },
  {
   "cell_type": "code",
   "execution_count": 32,
   "id": "d6d77618-2071-4307-b9e5-a57987a66f31",
   "metadata": {},
   "outputs": [],
   "source": [
    "import matplotlib.pyplot as plt\n",
    "import seaborn as sns"
   ]
  },
  {
   "cell_type": "code",
   "execution_count": 33,
   "id": "17b89749-482f-4761-90f6-36b001156ed1",
   "metadata": {},
   "outputs": [
    {
     "data": {
      "text/plain": [
       "Text(0.5, 1.0, 'Proportion of Spam vs ham for the 20 most common words')"
      ]
     },
     "execution_count": 33,
     "metadata": {},
     "output_type": "execute_result"
    },
    {
     "data": {
      "image/png": "[encoded data removed]",
      "text/plain": [
       "<Figure size 640x480 with 1 Axes>"
      ]
     },
     "metadata": {},
     "output_type": "display_data"
    }
   ],
   "source": [
    "(word_counts.assign(\n",
    "                p_spam=word_counts['spam'] / word_counts['all'],\n",
    "                p_ham =word_counts['ham']  / word_counts['all'])\n",
    "            .sort_values(by = 'all')\n",
    "            [['p_spam', 'p_ham']]\n",
    "            .tail(20)\n",
    "            .sort_values('p_ham')\n",
    "            .plot.barh(stacked = True))\n",
    "\n",
    "plt.title('Proportion of Spam vs ham for the 20 most common words')"
   ]
  },
  {
   "cell_type": "markdown",
   "id": "883dabf1-2a8c-4558-846c-ad23d8319bdc",
   "metadata": {},
   "source": [
    "<div class = 'alert alert-block alert-info'>\n",
    "    \n",
    "# Skip to Bigrams"
   ]
  },
  {
   "cell_type": "code",
   "execution_count": 38,
   "id": "af2ec7fb-e71b-4472-a59b-b6a7f14da028",
   "metadata": {},
   "outputs": [],
   "source": [
    "import acquire as ac"
   ]
  },
  {
   "cell_type": "code",
   "execution_count": 39,
   "id": "2b27861e-9ce6-476f-8ba7-714f364d94a0",
   "metadata": {},
   "outputs": [
    {
     "data": {
      "text/html": [
       "<div>\n",
       "<style scoped>\n",
       "    .dataframe tbody tr th:only-of-type {\n",
       "        vertical-align: middle;\n",
       "    }\n",
       "\n",
       "    .dataframe tbody tr th {\n",
       "        vertical-align: top;\n",
       "    }\n",
       "\n",
       "    .dataframe thead th {\n",
       "        text-align: right;\n",
       "    }\n",
       "</style>\n",
       "<table border=\"1\" class=\"dataframe\">\n",
       "  <thead>\n",
       "    <tr style=\"text-align: right;\">\n",
       "      <th></th>\n",
       "      <th>url</th>\n",
       "      <th>num</th>\n",
       "    </tr>\n",
       "    <tr>\n",
       "      <th>title</th>\n",
       "      <th></th>\n",
       "      <th></th>\n",
       "    </tr>\n",
       "  </thead>\n",
       "  <tbody>\n",
       "    <tr>\n",
       "      <th>Home</th>\n",
       "      <td>https://codeup.com/</td>\n",
       "      <td>Launch Your Career in tech.\\n\\nGo from no expe...</td>\n",
       "    </tr>\n",
       "    <tr>\n",
       "      <th>San Antonio</th>\n",
       "      <td>https://codeup.com/san-antonio-events/</td>\n",
       "      <td>Workshops &amp; Events | San Antonio\\nEver wanted ...</td>\n",
       "    </tr>\n",
       "    <tr>\n",
       "      <th>Dallas</th>\n",
       "      <td>https://codeup.com/dallas-events/</td>\n",
       "      <td>Workshops &amp; Events | Dallas\\nEver wanted to le...</td>\n",
       "    </tr>\n",
       "    <tr>\n",
       "      <th>Financial Aid</th>\n",
       "      <td>https://codeup.com/financial-aid/</td>\n",
       "      <td>Investing in your future\\nSelf-Pay, Loans, Gra...</td>\n",
       "    </tr>\n",
       "    <tr>\n",
       "      <th>Military</th>\n",
       "      <td>https://codeup.com/veterans/</td>\n",
       "      <td>Our Mission is To Create Life Change\\nSupporti...</td>\n",
       "    </tr>\n",
       "  </tbody>\n",
       "</table>\n",
       "</div>"
      ],
      "text/plain": [
       "                                                  url  \\\n",
       "title                                                   \n",
       "Home                              https://codeup.com/   \n",
       "San Antonio    https://codeup.com/san-antonio-events/   \n",
       "Dallas              https://codeup.com/dallas-events/   \n",
       "Financial Aid       https://codeup.com/financial-aid/   \n",
       "Military                 https://codeup.com/veterans/   \n",
       "\n",
       "                                                             num  \n",
       "title                                                             \n",
       "Home           Launch Your Career in tech.\\n\\nGo from no expe...  \n",
       "San Antonio    Workshops & Events | San Antonio\\nEver wanted ...  \n",
       "Dallas         Workshops & Events | Dallas\\nEver wanted to le...  \n",
       "Financial Aid  Investing in your future\\nSelf-Pay, Loans, Gra...  \n",
       "Military       Our Mission is To Create Life Change\\nSupporti...  "
      ]
     },
     "execution_count": 39,
     "metadata": {},
     "output_type": "execute_result"
    }
   ],
   "source": [
    "df = ac.scrape_codeup()\n",
    "df.head()"
   ]
  },
  {
   "cell_type": "code",
   "execution_count": 130,
   "id": "fd7ac1db-0638-4e3b-9a9c-5ce8cb2200db",
   "metadata": {},
   "outputs": [],
   "source": [
    "bigrams = nltk.ngrams(df['num'][4].split(), 2)\n",
    "trigrams = nltk.ngrams(df['num'][4].split(), 3)"
   ]
  },
  {
   "cell_type": "code",
   "execution_count": 131,
   "id": "0ac2fb01-fa52-495a-8f69-64f1d142f168",
   "metadata": {
    "scrolled": true,
    "tags": []
   },
   "outputs": [],
   "source": [
    "bigram_df = pd.DataFrame({'bigrams' : bigrams})\n",
    "trigram_df = pd.DataFrame({'trigrams' : trigrams})"
   ]
  },
  {
   "cell_type": "code",
   "execution_count": 118,
   "id": "ab964e64-cfca-4363-8ad6-31c78a2da53d",
   "metadata": {},
   "outputs": [
    {
     "data": {
      "text/html": [
       "<div>\n",
       "<style scoped>\n",
       "    .dataframe tbody tr th:only-of-type {\n",
       "        vertical-align: middle;\n",
       "    }\n",
       "\n",
       "    .dataframe tbody tr th {\n",
       "        vertical-align: top;\n",
       "    }\n",
       "\n",
       "    .dataframe thead th {\n",
       "        text-align: right;\n",
       "    }\n",
       "</style>\n",
       "<table border=\"1\" class=\"dataframe\">\n",
       "  <thead>\n",
       "    <tr style=\"text-align: right;\">\n",
       "      <th></th>\n",
       "      <th>bigrams</th>\n",
       "    </tr>\n",
       "  </thead>\n",
       "  <tbody>\n",
       "    <tr>\n",
       "      <th>0</th>\n",
       "      <td>(Our, Mission)</td>\n",
       "    </tr>\n",
       "    <tr>\n",
       "      <th>1</th>\n",
       "      <td>(Mission, is)</td>\n",
       "    </tr>\n",
       "    <tr>\n",
       "      <th>2</th>\n",
       "      <td>(is, To)</td>\n",
       "    </tr>\n",
       "    <tr>\n",
       "      <th>3</th>\n",
       "      <td>(To, Create)</td>\n",
       "    </tr>\n",
       "    <tr>\n",
       "      <th>4</th>\n",
       "      <td>(Create, Life)</td>\n",
       "    </tr>\n",
       "  </tbody>\n",
       "</table>\n",
       "</div>"
      ],
      "text/plain": [
       "          bigrams\n",
       "0  (Our, Mission)\n",
       "1   (Mission, is)\n",
       "2        (is, To)\n",
       "3    (To, Create)\n",
       "4  (Create, Life)"
      ]
     },
     "execution_count": 118,
     "metadata": {},
     "output_type": "execute_result"
    }
   ],
   "source": [
    "bigram_df.head()"
   ]
  },
  {
   "cell_type": "code",
   "execution_count": 132,
   "id": "735ad52c-e177-44a5-b850-89ebc7b38ea9",
   "metadata": {},
   "outputs": [
    {
     "data": {
      "text/html": [
       "<div>\n",
       "<style scoped>\n",
       "    .dataframe tbody tr th:only-of-type {\n",
       "        vertical-align: middle;\n",
       "    }\n",
       "\n",
       "    .dataframe tbody tr th {\n",
       "        vertical-align: top;\n",
       "    }\n",
       "\n",
       "    .dataframe thead th {\n",
       "        text-align: right;\n",
       "    }\n",
       "</style>\n",
       "<table border=\"1\" class=\"dataframe\">\n",
       "  <thead>\n",
       "    <tr style=\"text-align: right;\">\n",
       "      <th></th>\n",
       "      <th>trigrams</th>\n",
       "    </tr>\n",
       "  </thead>\n",
       "  <tbody>\n",
       "    <tr>\n",
       "      <th>0</th>\n",
       "      <td>(Our, Mission, is)</td>\n",
       "    </tr>\n",
       "    <tr>\n",
       "      <th>1</th>\n",
       "      <td>(Mission, is, To)</td>\n",
       "    </tr>\n",
       "    <tr>\n",
       "      <th>2</th>\n",
       "      <td>(is, To, Create)</td>\n",
       "    </tr>\n",
       "    <tr>\n",
       "      <th>3</th>\n",
       "      <td>(To, Create, Life)</td>\n",
       "    </tr>\n",
       "    <tr>\n",
       "      <th>4</th>\n",
       "      <td>(Create, Life, Change)</td>\n",
       "    </tr>\n",
       "  </tbody>\n",
       "</table>\n",
       "</div>"
      ],
      "text/plain": [
       "                 trigrams\n",
       "0      (Our, Mission, is)\n",
       "1       (Mission, is, To)\n",
       "2        (is, To, Create)\n",
       "3      (To, Create, Life)\n",
       "4  (Create, Life, Change)"
      ]
     },
     "execution_count": 132,
     "metadata": {},
     "output_type": "execute_result"
    }
   ],
   "source": [
    "trigram_df.head()"
   ]
  },
  {
   "cell_type": "code",
   "execution_count": 133,
   "id": "4a725fae-993a-4396-8930-2be49061d57f",
   "metadata": {},
   "outputs": [],
   "source": [
    "top_20_codeup_military_bigrams = (bigram_df['bigrams']).value_counts().head(20)\n",
    "top_20_codeup_military_trigrams = (trigram_df['trigrams']).value_counts().head(20)"
   ]
  },
  {
   "cell_type": "code",
   "execution_count": 120,
   "id": "574a5180-2b61-494a-b152-248443bd9041",
   "metadata": {},
   "outputs": [
    {
     "data": {
      "text/plain": [
       "(in, the)            6\n",
       "(Course, Details)    3\n",
       "(of, your)           2\n",
       "(VA, benefits)       2\n",
       "(VET, TEC,)          2\n",
       "(VET, TEC)           2\n",
       "(TEC, and)           2\n",
       "(After, serving)     2\n",
       "(as, a)              2\n",
       "(work, through)      2\n",
       "(VA, Benefits)       2\n",
       "(months, of)         2\n",
       "(veterans, and)      2\n",
       "(serving, in)        2\n",
       "(the, skills)        2\n",
       "(GI, Bill®)          2\n",
       "(GI, Bill®,)         2\n",
       "(through, your)      2\n",
       "(a, copy)            1\n",
       "(We, love)           1\n",
       "Name: bigrams, dtype: int64"
      ]
     },
     "execution_count": 120,
     "metadata": {},
     "output_type": "execute_result"
    }
   ],
   "source": [
    "top_20_codeup_military_bigrams"
   ]
  },
  {
   "cell_type": "code",
   "execution_count": 134,
   "id": "1763213e-bfc7-4914-be1a-45f2d76634cd",
   "metadata": {},
   "outputs": [
    {
     "data": {
      "text/plain": [
       "(VET, TEC, and)                         2\n",
       "(serving, in, the)                      2\n",
       "(Our, Mission, is)                      1\n",
       "(as, well, as)                          1\n",
       "(as, a, copy)                           1\n",
       "(a, copy, of)                           1\n",
       "(copy, of, your)                        1\n",
       "(of, your, Certificate)                 1\n",
       "(your, Certificate, of)                 1\n",
       "(Certificate, of, Eligibility.)         1\n",
       "(of, Eligibility., Veteran)             1\n",
       "(Eligibility., Veteran, Scholarship)    1\n",
       "(Veteran, Scholarship, We)              1\n",
       "(Scholarship, We, love)                 1\n",
       "(We, love, our)                         1\n",
       "(love, our, Military)                   1\n",
       "(our, Military, City,)                  1\n",
       "(well, as, a)                           1\n",
       "(enroll, form,, as)                     1\n",
       "(form,, as, well)                       1\n",
       "Name: trigrams, dtype: int64"
      ]
     },
     "execution_count": 134,
     "metadata": {},
     "output_type": "execute_result"
    }
   ],
   "source": [
    "top_20_codeup_military_trigrams"
   ]
  },
  {
   "cell_type": "code",
   "execution_count": 135,
   "id": "b78de8de-740c-4182-b939-a0e2d051ca95",
   "metadata": {},
   "outputs": [
    {
     "data": {
      "image/png": "[encoded data removed]",
      "text/plain": [
       "<Figure size 1000x600 with 1 Axes>"
      ]
     },
     "metadata": {},
     "output_type": "display_data"
    }
   ],
   "source": [
    "top_20_codeup_military_bigrams.sort_values(ascending=False).plot.barh(color='pink', width=.9, figsize=(10, 6))\n",
    "\n",
    "plt.title('20 Most frequently occuring military page bigrams')\n",
    "plt.ylabel('Bigram')\n",
    "plt.xlabel('# Occurances')\n",
    "\n",
    "# make the labels pretty\n",
    "ticks, _ = plt.yticks()\n",
    "labels = top_20_codeup_military_bigrams.reset_index()['index'].apply(lambda t: t[0] + ' ' + t[1])\n",
    "_ = plt.yticks(ticks, labels)"
   ]
  },
  {
   "cell_type": "code",
   "execution_count": 123,
   "id": "6e35973e-6416-4baf-bb3c-eda965ac8c63",
   "metadata": {},
   "outputs": [],
   "source": [
    "top_20_codeup_military_trigrams.sort_values(ascending=False).plot.barh(color='pink', width=.9, figsize=(10, 6))\n",
    "\n",
    "plt.title('20 Most frequently occuring military page bigrams')\n",
    "plt.ylabel('Trigram')\n",
    "plt.xlabel('# Occurances')\n",
    "\n",
    "# make the labels pretty\n",
    "ticks, _ = plt.yticks()\n",
    "labels = top_20_codeup_military_trigrams.reset_index()['index'].apply(lambda t: t[0] + ' ' + t[1])\n",
    "_ = plt.yticks(ticks, labels)"
   ]
  },
  {
   "cell_type": "code",
   "execution_count": 124,
   "id": "af0e233a-4093-4097-8160-2c41f8e97e3e",
   "metadata": {},
   "outputs": [
    {
     "data": {
      "image/png": "[encoded data removed]",
      "text/plain": [
       "<Figure size 800x400 with 1 Axes>"
      ]
     },
     "metadata": {},
     "output_type": "display_data"
    }
   ],
   "source": [
    "data = {k[0] + ' ' + k[1]: v for k, v in top_20_codeup_military_bigrams.to_dict().items()}\n",
    "img = WordCloud(background_color='white', width=800, height=400).generate_from_frequencies(data)\n",
    "plt.figure(figsize=(8, 4))\n",
    "plt.imshow(img)\n",
    "plt.axis('off')\n",
    "plt.show()"
   ]
  },
  {
   "cell_type": "code",
   "execution_count": 126,
   "id": "978d26a3-d3d3-4bb6-abbb-1e8dbd49bacc",
   "metadata": {},
   "outputs": [],
   "source": [
    "mem = df.memory_usage(index=True, deep=True)\n",
    "total_size = sum(mem)"
   ]
  },
  {
   "cell_type": "code",
   "execution_count": 128,
   "id": "4b248a46-00ba-4bd1-a8de-fe3aeadd4373",
   "metadata": {},
   "outputs": [
    {
     "name": "stdout",
     "output_type": "stream",
     "text": [
      "0.42 MB\n"
     ]
    }
   ],
   "source": [
    "print(f'{total_size/1000000:.2f} MB')"
   ]
  },
  {
   "cell_type": "code",
   "execution_count": 129,
   "id": "cc3653b6-98c6-4ac9-a659-f51ab4660f5a",
   "metadata": {},
   "outputs": [
    {
     "name": "stdout",
     "output_type": "stream",
     "text": [
      "<class 'pandas.core.frame.DataFrame'>\n",
      "Index: 65 entries, Home to Accessibility\n",
      "Data columns (total 2 columns):\n",
      " #   Column  Non-Null Count  Dtype \n",
      "---  ------  --------------  ----- \n",
      " 0   url     65 non-null     object\n",
      " 1   num     65 non-null     object\n",
      "dtypes: object(2)\n",
      "memory usage: 1.5+ KB\n"
     ]
    }
   ],
   "source": [
    "df.info()"
   ]
  },
  {
   "cell_type": "code",
   "execution_count": null,
   "id": "ae03fc53-ec09-4d92-89db-9010bb42e67d",
   "metadata": {},
   "outputs": [],
   "source": []
  }
 ],
 "metadata": {
  "kernelspec": {
   "display_name": "Python 3 (ipykernel)",
   "language": "python",
   "name": "python3"
  },
  "language_info": {
   "codemirror_mode": {
    "name": "ipython",
    "version": 3
   },
   "file_extension": ".py",
   "mimetype": "text/x-python",
   "name": "python",
   "nbconvert_exporter": "python",
   "pygments_lexer": "ipython3",
   "version": "3.9.15"
  }
 },
 "nbformat": 4,
 "nbformat_minor": 5
}
