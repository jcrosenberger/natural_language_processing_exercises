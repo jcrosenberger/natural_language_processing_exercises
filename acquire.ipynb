{
 "cells": [
  {
   "cell_type": "code",
   "execution_count": 23,
   "id": "da2ce196-f672-4ffd-a239-799fc33ede7c",
   "metadata": {},
   "outputs": [],
   "source": [
    "from bs4 import BeautifulSoup\n",
    "from requests import get\n",
    "import pandas as pd\n",
    "import numpy as np\n",
    "import re"
   ]
  },
  {
   "cell_type": "markdown",
   "id": "92e3b5cc-8bf1-4845-805e-bb6c6745074a",
   "metadata": {},
   "source": [
    "<div class = \"alert alert-block alert-info\">\n",
    "\n",
    "\n",
    "# 1. Codeup Blog Articles\n",
    "\n",
    "- Visit Codeup's Blog and record the urls for at least 5 distinct blog posts. For each post, you should scrape at least the post's title and content.\n",
    "\n",
    "- Encapsulate your work in a function named get_blog_articles that will return a list of dictionaries, with each dictionary representing one article. The shape of each dictionary should look like this:\n",
    "\n",
    "\n",
    "    {\n",
    "    \n",
    "        'title': 'the title of the article',\n",
    "        'content': 'the full text content of the article'\n",
    "        \n",
    "    }\n",
    "- Plus any additional properties you think might be helpful.\n",
    "\n",
    "- Bonus: Scrape the text of all the articles linked on codeup's blog page."
   ]
  },
  {
   "cell_type": "markdown",
   "id": "b52be7e3-9eec-4d2e-af69-5bbe8813c5de",
   "metadata": {},
   "source": [
    "<div class = \"alert alert-block alert-danger\">\n",
    "    \n",
    "# Look for the warning cells (in yellow color) for functions which will be added to the py script"
   ]
  },
  {
   "cell_type": "code",
   "execution_count": 69,
   "id": "2f1341ea-19b2-40c4-99ed-ec9c678e4842",
   "metadata": {},
   "outputs": [],
   "source": [
    "url = 'https://codeup.com/blog/'\n",
    "headers = {'User-Agent': 'Codeup Data Science'}\n",
    "response = get(url, headers=headers)\n",
    "\n",
    "\n",
    "soup = bs(response.content, 'html.parser')\n",
    "soup"
   ]
  },
  {
   "cell_type": "code",
   "execution_count": 31,
   "id": "96942c9c-83dd-4dbe-be1d-af7160697feb",
   "metadata": {
    "scrolled": true,
    "tags": []
   },
   "outputs": [
    {
     "data": {
      "text/plain": [
       "'\\n\\n\\n\\n\\n\\n\\nCodeup News & Articles\\n\\n\\n\\nSearch for:\\n\\n\\n\\n\\n\\n\\n\\n\\n\\n\\n\\n\\n\\n\\n\\n\\nBecome a Data Scientist in 6 Months!\\nJan 5, 2023Are you feeling unfulfilled in your work but want to avoid returning to the traditional educational route? Codeup can...\\nread more\\n\\n\\n\\nHiring Tech Talent Around the Holidays\\nDec 16, 2022Are you a hiring manager having trouble filling an IT position around the holidays? Codeup has a solution for hiring...\\nread more\\n\\n\\n\\nCloud Administration Program New Funding Options\\nDec 8, 2022Finding resources to fund your educational goals is possibly the largest obstacle students face when pursuing higher...\\nread more\\n\\n\\n\\nWhy Dallas is a Great Location for IT Professionals\\nDec 1, 2022When breaking into a new career, it is important to explore the job opportunities that exist in your area. A common...\\nread more\\n\\n\\n\\nCodeup is ranked #1 Best in DFW 2022\\nNov 21, 2022We are excited to announce that Codeup ranked #1 for Best Trade/Technical School in DFW! Click here to see the Best in...\\nread more\\n\\n\\n\\nCodeup’s Scholarship Offerings\\nNov 17, 2022In honor of November being National Scholarship Month, we’d like to highlight Codeup’s current internal scholarship...\\nread more\\n\\n\\n« Older Entries\\n\\n\\n\\n\\n\\n\\n\\n\\nGit Codeupdates\\nSign up for the Codeup Newsletter below and get notified on upcoming events, workshops and Codeupdates.\\n\\n\\n\\n\\n\\n\\n\\n \\n\\n'"
      ]
     },
     "execution_count": 31,
     "metadata": {},
     "output_type": "execute_result"
    }
   ],
   "source": [
    "article = soup.find('div', id='main-content')\n",
    "article.text"
   ]
  },
  {
   "cell_type": "code",
   "execution_count": 32,
   "id": "296dd435-2944-4333-a5dc-1fb39d0cd6a8",
   "metadata": {},
   "outputs": [],
   "source": [
    "with open('article.txt', 'w') as f:\n",
    "    f.write(article.text)"
   ]
  },
  {
   "cell_type": "code",
   "execution_count": 33,
   "id": "d08a1e25-62ae-40ca-af5e-59f08040ea2e",
   "metadata": {
    "scrolled": true,
    "tags": []
   },
   "outputs": [
    {
     "data": {
      "text/plain": [
       "[<li class=\"menu-item menu-item-type-post_type menu-item-object-page menu-item-home menu-item-16491\"><a href=\"https://codeup.com/\">Home</a></li>,\n",
       " <li class=\"menu-item menu-item-type-custom menu-item-object-custom menu-item-18125\"><a href=\"https://codeup.com/program/cloud-adminsitration/\">Cloud Administration</a></li>,\n",
       " <li class=\"menu-item menu-item-type-post_type menu-item-object-course menu-item-16497\"><a href=\"https://codeup.com/program/full-stack-web-development/\">Full Stack Web Development</a></li>,\n",
       " <li class=\"menu-item menu-item-type-post_type menu-item-object-course menu-item-16496\"><a href=\"https://codeup.com/program/data-science/\">Data Science</a></li>,\n",
       " <li class=\"menu-item menu-item-type-custom menu-item-object-custom menu-item-has-children menu-item-18628\"><a href=\"/events/\">Workshops</a>\n",
       " <ul class=\"sub-menu\">\n",
       " <li class=\"menu-item menu-item-type-custom menu-item-object-custom menu-item-18896\"><a href=\"/san-antonio-events/\">San Antonio</a></li>\n",
       " <li class=\"menu-item menu-item-type-custom menu-item-object-custom menu-item-18897\"><a href=\"/dallas-events/\">Dallas</a></li>\n",
       " </ul>\n",
       " </li>,\n",
       " <li class=\"menu-item menu-item-type-custom menu-item-object-custom menu-item-18896\"><a href=\"/san-antonio-events/\">San Antonio</a></li>,\n",
       " <li class=\"menu-item menu-item-type-custom menu-item-object-custom menu-item-18897\"><a href=\"/dallas-events/\">Dallas</a></li>,\n",
       " <li class=\"menu-item menu-item-type-post_type menu-item-object-page menu-item-16498\"><a href=\"https://codeup.com/financial-aid/\">Financial Aid</a></li>,\n",
       " <li class=\"menu-item menu-item-type-post_type menu-item-object-page menu-item-16501\"><a href=\"https://codeup.com/veterans/\">Military</a></li>,\n",
       " <li class=\"menu-item menu-item-type-post_type menu-item-object-page menu-item-16502\"><a href=\"https://codeup.com/hire-tech-talent/\">Hire Tech Talent</a></li>,\n",
       " <li class=\"menu-item menu-item-type-custom menu-item-object-custom menu-item-17178\"><a href=\"https://alumni.codeup.com/\">Alumni</a></li>,\n",
       " <li class=\"menu-item menu-item-type-post_type menu-item-object-page current-menu-ancestor current-menu-parent current_page_parent current_page_ancestor menu-item-has-children menu-item-16503\"><a href=\"https://codeup.com/resources/\">Resources</a>\n",
       " <ul class=\"sub-menu\">\n",
       " <li class=\"menu-item menu-item-type-custom menu-item-object-custom menu-item-16895\"><a href=\"/my-story/\">Student Reviews</a></li>\n",
       " <li class=\"menu-item menu-item-type-post_type menu-item-object-page current-menu-item page_item page-item-16037 current_page_item current_page_parent menu-item-16504\"><a aria-current=\"page\" href=\"https://codeup.com/blog/\">Blog</a></li>\n",
       " <li class=\"menu-item menu-item-type-post_type menu-item-object-page menu-item-16505\"><a href=\"https://codeup.com/frequently-asked-questions/\">Common Questions</a></li>\n",
       " <li class=\"menu-item menu-item-type-post_type menu-item-object-page menu-item-16685\"><a href=\"https://codeup.com/podcast/\">Hire Tech Podcast</a></li>\n",
       " </ul>\n",
       " </li>,\n",
       " <li class=\"menu-item menu-item-type-custom menu-item-object-custom menu-item-16895\"><a href=\"/my-story/\">Student Reviews</a></li>,\n",
       " <li class=\"menu-item menu-item-type-post_type menu-item-object-page current-menu-item page_item page-item-16037 current_page_item current_page_parent menu-item-16504\"><a aria-current=\"page\" href=\"https://codeup.com/blog/\">Blog</a></li>,\n",
       " <li class=\"menu-item menu-item-type-post_type menu-item-object-page menu-item-16505\"><a href=\"https://codeup.com/frequently-asked-questions/\">Common Questions</a></li>,\n",
       " <li class=\"menu-item menu-item-type-post_type menu-item-object-page menu-item-16685\"><a href=\"https://codeup.com/podcast/\">Hire Tech Podcast</a></li>,\n",
       " <li class=\"cta-nav menu-item menu-item-type-post_type menu-item-object-page menu-item-16492\"><a href=\"https://codeup.com/apply-now/\">Apply Now</a></li>,\n",
       " <li class=\"et_pb_menu_page_id-16686 menu-item menu-item-type-post_type menu-item-object-page menu-item-has-children menu-item-16721\"><a href=\"https://codeup.com/programs/\" title=\"Coding Programs\">Programs</a>\n",
       " <ul class=\"sub-menu\">\n",
       " <li class=\"et_pb_menu_page_id-941 menu-item menu-item-type-post_type menu-item-object-course menu-item-18130\"><a href=\"https://codeup.com/program/cloud-administration/\">Cloud Administration</a></li>\n",
       " <li class=\"et_pb_menu_page_id-161 menu-item menu-item-type-post_type menu-item-object-course menu-item-16294\"><a href=\"https://codeup.com/program/full-stack-web-development/\" title=\"Full Stack Web Development Bootcamp\">Web Development</a></li>\n",
       " <li class=\"et_pb_menu_page_id-186 menu-item menu-item-type-post_type menu-item-object-course menu-item-16296\"><a href=\"https://codeup.com/program/data-science/\" title=\"Data Science Bootcamp in Texas\">Data Science</a></li>\n",
       " </ul>\n",
       " </li>,\n",
       " <li class=\"et_pb_menu_page_id-941 menu-item menu-item-type-post_type menu-item-object-course menu-item-18130\"><a href=\"https://codeup.com/program/cloud-administration/\">Cloud Administration</a></li>,\n",
       " <li class=\"et_pb_menu_page_id-161 menu-item menu-item-type-post_type menu-item-object-course menu-item-16294\"><a href=\"https://codeup.com/program/full-stack-web-development/\" title=\"Full Stack Web Development Bootcamp\">Web Development</a></li>,\n",
       " <li class=\"et_pb_menu_page_id-186 menu-item menu-item-type-post_type menu-item-object-course menu-item-16296\"><a href=\"https://codeup.com/program/data-science/\" title=\"Data Science Bootcamp in Texas\">Data Science</a></li>,\n",
       " <li class=\"et_pb_menu_page_id-547 menu-item menu-item-type-custom menu-item-object-custom menu-item-547\"><a href=\"/financial-aid/\">Financing</a></li>,\n",
       " <li class=\"et_pb_menu_page_id-18198 menu-item menu-item-type-custom menu-item-object-custom menu-item-has-children menu-item-18198\"><a href=\"#\">Events</a>\n",
       " <ul class=\"sub-menu\">\n",
       " <li class=\"et_pb_menu_page_id-18194 menu-item menu-item-type-post_type menu-item-object-page menu-item-18199\"><a href=\"https://codeup.com/san-antonio-events/\">San Antonio</a></li>\n",
       " <li class=\"et_pb_menu_page_id-18145 menu-item menu-item-type-post_type menu-item-object-page menu-item-18200\"><a href=\"https://codeup.com/dallas-events/\">Dallas</a></li>\n",
       " </ul>\n",
       " </li>,\n",
       " <li class=\"et_pb_menu_page_id-18194 menu-item menu-item-type-post_type menu-item-object-page menu-item-18199\"><a href=\"https://codeup.com/san-antonio-events/\">San Antonio</a></li>,\n",
       " <li class=\"et_pb_menu_page_id-18145 menu-item menu-item-type-post_type menu-item-object-page menu-item-18200\"><a href=\"https://codeup.com/dallas-events/\">Dallas</a></li>,\n",
       " <li class=\"et_pb_menu_page_id-16083 menu-item menu-item-type-post_type menu-item-object-page menu-item-16162\"><a href=\"https://codeup.com/veterans/\">Military</a></li>,\n",
       " <li class=\"et_pb_menu_page_id-34 menu-item menu-item-type-custom menu-item-object-custom menu-item-has-children menu-item-34\"><a>Campuses</a>\n",
       " <ul class=\"sub-menu\">\n",
       " <li class=\"et_pb_menu_page_id-16174 menu-item menu-item-type-post_type menu-item-object-page menu-item-16509\"><a href=\"https://codeup.com/san-antonio/\">San Antonio</a></li>\n",
       " <li class=\"et_pb_menu_page_id-1139 menu-item menu-item-type-post_type menu-item-object-page menu-item-16075\"><a href=\"https://codeup.com/dallas/\">Dallas</a></li>\n",
       " </ul>\n",
       " </li>,\n",
       " <li class=\"et_pb_menu_page_id-16174 menu-item menu-item-type-post_type menu-item-object-page menu-item-16509\"><a href=\"https://codeup.com/san-antonio/\">San Antonio</a></li>,\n",
       " <li class=\"et_pb_menu_page_id-1139 menu-item menu-item-type-post_type menu-item-object-page menu-item-16075\"><a href=\"https://codeup.com/dallas/\">Dallas</a></li>,\n",
       " <li class=\"et_pb_menu_page_id-528 menu-item menu-item-type-post_type menu-item-object-page menu-item-has-children menu-item-16076\"><a href=\"https://codeup.com/hire-tech-talent/\" title=\"Hire Diversified Tech Talent\">Hire</a>\n",
       " <ul class=\"sub-menu\">\n",
       " <li class=\"et_pb_menu_page_id-528 menu-item menu-item-type-post_type menu-item-object-page menu-item-17180\"><a href=\"https://codeup.com/hire-tech-talent/\">Employers</a></li>\n",
       " <li class=\"et_pb_menu_page_id-17179 menu-item menu-item-type-custom menu-item-object-custom menu-item-17179\"><a href=\"https://alumni.codeup.com/\">Alumni Portal</a></li>\n",
       " </ul>\n",
       " </li>,\n",
       " <li class=\"et_pb_menu_page_id-528 menu-item menu-item-type-post_type menu-item-object-page menu-item-17180\"><a href=\"https://codeup.com/hire-tech-talent/\">Employers</a></li>,\n",
       " <li class=\"et_pb_menu_page_id-17179 menu-item menu-item-type-custom menu-item-object-custom menu-item-17179\"><a href=\"https://alumni.codeup.com/\">Alumni Portal</a></li>,\n",
       " <li class=\"et_pb_menu_page_id-736 menu-item menu-item-type-post_type menu-item-object-page current-menu-ancestor current-menu-parent current_page_parent current_page_ancestor menu-item-has-children menu-item-16163\"><a href=\"https://codeup.com/resources/\">Resources</a>\n",
       " <ul class=\"sub-menu\">\n",
       " <li class=\"et_pb_menu_page_id-16896 menu-item menu-item-type-custom menu-item-object-custom menu-item-16896\"><a href=\"/my-story/\">Student Reviews</a></li>\n",
       " <li class=\"et_pb_menu_page_id-16037 menu-item menu-item-type-post_type menu-item-object-page current-menu-item page_item page-item-16037 current_page_item current_page_parent menu-item-16301\"><a aria-current=\"page\" href=\"https://codeup.com/blog/\">Blog</a></li>\n",
       " <li class=\"et_pb_menu_page_id-449 menu-item menu-item-type-post_type menu-item-object-page menu-item-16302\"><a href=\"https://codeup.com/frequently-asked-questions/\">Common Questions</a></li>\n",
       " <li class=\"et_pb_menu_page_id-597 menu-item menu-item-type-post_type menu-item-object-page menu-item-16684\"><a href=\"https://codeup.com/podcast/\">Hire Tech Podcast</a></li>\n",
       " </ul>\n",
       " </li>,\n",
       " <li class=\"et_pb_menu_page_id-16896 menu-item menu-item-type-custom menu-item-object-custom menu-item-16896\"><a href=\"/my-story/\">Student Reviews</a></li>,\n",
       " <li class=\"et_pb_menu_page_id-16037 menu-item menu-item-type-post_type menu-item-object-page current-menu-item page_item page-item-16037 current_page_item current_page_parent menu-item-16301\"><a aria-current=\"page\" href=\"https://codeup.com/blog/\">Blog</a></li>,\n",
       " <li class=\"et_pb_menu_page_id-449 menu-item menu-item-type-post_type menu-item-object-page menu-item-16302\"><a href=\"https://codeup.com/frequently-asked-questions/\">Common Questions</a></li>,\n",
       " <li class=\"et_pb_menu_page_id-597 menu-item menu-item-type-post_type menu-item-object-page menu-item-16684\"><a href=\"https://codeup.com/podcast/\">Hire Tech Podcast</a></li>,\n",
       " <li class=\"et_pb_social_media_follow_network_0_tb_footer et_pb_social_icon et_pb_social_network_link et-social-facebook\"><a class=\"icon et_pb_with_border\" href=\"https://www.facebook.com/GoCodeup/\" target=\"_blank\" title=\"Follow on Facebook\"><span aria-hidden=\"true\" class=\"et_pb_social_media_follow_network_name\">Follow</span></a></li>,\n",
       " <li class=\"et_pb_social_media_follow_network_1_tb_footer et_pb_social_icon et_pb_social_network_link et-social-twitter\"><a class=\"icon et_pb_with_border\" href=\"https://twitter.com/gocodeup\" target=\"_blank\" title=\"Follow on Twitter\"><span aria-hidden=\"true\" class=\"et_pb_social_media_follow_network_name\">Follow</span></a></li>,\n",
       " <li class=\"et_pb_social_media_follow_network_2_tb_footer et_pb_social_icon et_pb_social_network_link et-social-instagram\"><a class=\"icon et_pb_with_border\" href=\"https://www.instagram.com/gocodeup/?hl=en\" target=\"_blank\" title=\"Follow on Instagram\"><span aria-hidden=\"true\" class=\"et_pb_social_media_follow_network_name\">Follow</span></a></li>,\n",
       " <li class=\"et_pb_social_media_follow_network_3_tb_footer et_pb_social_icon et_pb_social_network_link et-social-linkedin\"><a class=\"icon et_pb_with_border\" href=\"https://www.linkedin.com/school/3799914\" target=\"_blank\" title=\"Follow on LinkedIn\"><span aria-hidden=\"true\" class=\"et_pb_social_media_follow_network_name\">Follow</span></a></li>,\n",
       " <li class=\"et_pb_social_media_follow_network_4_tb_footer et_pb_social_icon et_pb_social_network_link et-social-rss\"><a class=\"icon et_pb_with_border\" href=\"/podcast/\" target=\"_blank\" title=\"Follow on RSS\"><span aria-hidden=\"true\" class=\"et_pb_social_media_follow_network_name\">Follow</span></a></li>]"
      ]
     },
     "execution_count": 33,
     "metadata": {},
     "output_type": "execute_result"
    }
   ],
   "source": [
    "soup.find_all('li')"
   ]
  },
  {
   "cell_type": "code",
   "execution_count": 5,
   "id": "27884824-7d43-4bda-930e-e4c1259b2f27",
   "metadata": {},
   "outputs": [],
   "source": [
    "codeup_a_list = soup.find_all('a')"
   ]
  },
  {
   "cell_type": "code",
   "execution_count": 66,
   "id": "7bedda68-0ea0-41df-a11b-35a1d5fd57b9",
   "metadata": {},
   "outputs": [
    {
     "data": {
      "text/plain": [
       "<a href=\"https://codeup.com/program/cloud-adminsitration/\">Cloud Administration</a>"
      ]
     },
     "execution_count": 66,
     "metadata": {},
     "output_type": "execute_result"
    }
   ],
   "source": [
    "codeup_a_list[1]"
   ]
  },
  {
   "cell_type": "code",
   "execution_count": 65,
   "id": "7bb583eb-19b4-4486-97ae-67cd00559041",
   "metadata": {},
   "outputs": [
    {
     "data": {
      "text/plain": [
       "'Cloud Administration'"
      ]
     },
     "execution_count": 65,
     "metadata": {},
     "output_type": "execute_result"
    }
   ],
   "source": [
    "codeup_a_list[1].text"
   ]
  },
  {
   "cell_type": "markdown",
   "id": "49f98894-804d-410a-925c-7babaa259c3f",
   "metadata": {},
   "source": [
    "#### testing some regex syntax"
   ]
  },
  {
   "cell_type": "code",
   "execution_count": 49,
   "id": "359aae39-d711-4c78-bd45-f6ae95dfd68a",
   "metadata": {},
   "outputs": [
    {
     "name": "stdout",
     "output_type": "stream",
     "text": [
      "https://www.website.com/some-value/here\n",
      "sokmdke\n",
      "https://www.website.com/another-value/here\n",
      "different-value/here\n"
     ]
    }
   ],
   "source": [
    "item = r'/'\n",
    "value0 = '/some-value/here'\n",
    "value1 = 'sokmdke'\n",
    "value2 = '/another-value/here'\n",
    "value3 = 'different-value/here'\n",
    "\n",
    "\n",
    "add_to_value = 'https://www.website.com'\n",
    "\n",
    "list_of_values = [value0, value1, value2, value3]\n",
    "'''\n",
    "if re.search(f'{item}', value):\n",
    "    print_value = add_to_value + value\n",
    "    print(print_value)\n",
    "'''\n",
    "\n",
    "for item in list_of_values:\n",
    "\n",
    "    if re.search(f'^/', item):\n",
    "        print_value = add_to_value + item\n",
    "        print(print_value)\n",
    "    else:\n",
    "        print_value = item\n",
    "        print(item)"
   ]
  },
  {
   "cell_type": "markdown",
   "id": "edab6c9f-2937-41ce-b48e-c1f17ee6048a",
   "metadata": {},
   "source": [
    "#### Testing exception resiliency and also trying to figure out which A entries are not formatted well"
   ]
  },
  {
   "cell_type": "code",
   "execution_count": 50,
   "id": "258acea4-b721-4c13-ae88-de18207539d0",
   "metadata": {
    "scrolled": true,
    "tags": []
   },
   "outputs": [
    {
     "name": "stdout",
     "output_type": "stream",
     "text": [
      "(0, 'https://codeup.com/')\n",
      "(1, 'https://codeup.com/program/cloud-adminsitration/')\n",
      "(2, 'https://codeup.com/program/full-stack-web-development/')\n",
      "(3, 'https://codeup.com/program/data-science/')\n",
      "https://codeup.com//events/\n",
      "https://codeup.com//san-antonio-events/\n",
      "https://codeup.com//dallas-events/\n",
      "(7, 'https://codeup.com/financial-aid/')\n",
      "(8, 'https://codeup.com/veterans/')\n",
      "(9, 'https://codeup.com/hire-tech-talent/')\n",
      "(10, 'https://alumni.codeup.com/')\n",
      "(11, 'https://codeup.com/resources/')\n",
      "https://codeup.com//my-story/\n",
      "(13, 'https://codeup.com/blog/')\n",
      "(14, 'https://codeup.com/frequently-asked-questions/')\n",
      "(15, 'https://codeup.com/podcast/')\n",
      "(16, 'https://codeup.com/apply-now/')\n",
      "(17, 'https://codeup.com/')\n",
      "https://codeup.com//about-codeup/\n",
      "https://codeup.com//category/behind-the-billboards/\n",
      "https://codeup.com//careers/\n",
      "https://codeup.com//index.php/\n",
      "(22, 'https://codeup.com/programs/')\n",
      "(23, 'https://codeup.com/program/cloud-administration/')\n",
      "(24, 'https://codeup.com/program/full-stack-web-development/')\n",
      "(25, 'https://codeup.com/program/data-science/')\n",
      "https://codeup.com//financial-aid/\n",
      "(27, '#')\n",
      "(28, 'https://codeup.com/san-antonio-events/')\n",
      "(29, 'https://codeup.com/dallas-events/')\n",
      "(30, 'https://codeup.com/veterans/')\n",
      "(32, 'https://codeup.com/san-antonio/')\n",
      "(33, 'https://codeup.com/dallas/')\n",
      "(34, 'https://codeup.com/hire-tech-talent/')\n",
      "(35, 'https://codeup.com/hire-tech-talent/')\n",
      "(36, 'https://alumni.codeup.com/')\n",
      "(37, 'https://codeup.com/resources/')\n",
      "https://codeup.com//my-story/\n",
      "(39, 'https://codeup.com/blog/')\n",
      "(40, 'https://codeup.com/frequently-asked-questions/')\n",
      "(41, 'https://codeup.com/podcast/')\n",
      "https://codeup.com//apply-now/\n",
      "(43, 'https://codeup.com/data-science/become-a-data-scientist/')\n",
      "(44, 'https://codeup.com/data-science/become-a-data-scientist/')\n",
      "(45, 'https://codeup.com/data-science/become-a-data-scientist/')\n",
      "(46, 'https://codeup.com/employers/hiring-tech-talent/')\n",
      "(47, 'https://codeup.com/employers/hiring-tech-talent/')\n",
      "(48, 'https://codeup.com/employers/hiring-tech-talent/')\n",
      "(49, 'https://codeup.com/cloud-administration/cap-funding-options/')\n",
      "(50, 'https://codeup.com/cloud-administration/cap-funding-options/')\n",
      "(51, 'https://codeup.com/cloud-administration/cap-funding-options/')\n",
      "(52, 'https://codeup.com/dallas-info/it-professionals-dallas/')\n",
      "(53, 'https://codeup.com/dallas-info/it-professionals-dallas/')\n",
      "(54, 'https://codeup.com/dallas-info/it-professionals-dallas/')\n",
      "(55, 'https://codeup.com/codeup-news/codeup-voted-1-technical-school-in-dfw/')\n",
      "(56, 'https://codeup.com/codeup-news/codeup-voted-1-technical-school-in-dfw/')\n",
      "(57, 'https://codeup.com/codeup-news/codeup-voted-1-technical-school-in-dfw/')\n",
      "(58, 'https://codeup.com/tips-for-prospective-students/financing/codeups-scholarships/')\n",
      "(59, 'https://codeup.com/tips-for-prospective-students/financing/codeups-scholarships/')\n",
      "(60, 'https://codeup.com/tips-for-prospective-students/financing/codeups-scholarships/')\n",
      "(61, 'https://codeup.com/blog/page/2/?et_blog')\n",
      "(62, 'tel:12108027289')\n",
      "(63, 'https://www.facebook.com/GoCodeup/')\n",
      "(64, 'https://twitter.com/gocodeup')\n",
      "(65, 'https://www.instagram.com/gocodeup/?hl=en')\n",
      "(66, 'https://www.linkedin.com/school/3799914')\n",
      "https://codeup.com//podcast/\n",
      "https://codeup.com//dallas\n",
      "https://codeup.com//san-antonio\n",
      "https://codeup.com//index.php/\n",
      "https://codeup.com//why-codeup/\n",
      "https://codeup.com//financial-aid/\n",
      "https://codeup.com//my-story/\n",
      "https://codeup.com//hire-tech-talent/\n",
      "https://codeup.com//refund/\n",
      "https://codeup.com//frequently-asked-questions/\n",
      "https://codeup.com//careers/\n",
      "https://codeup.com//pr/\n",
      "https://codeup.com//program/full-stack-web-development/\n",
      "https://codeup.com//program/data-science/\n",
      "https://codeup.com//cloud-administration/\n",
      "https://codeup.com//free/\n",
      "https://codeup.com//apply-now/\n",
      "https://codeup.com//privacy/\n",
      "https://codeup.com//student-complaint-policy/\n",
      "https://codeup.com//codeup-news/inclusion-at-codeup-during-pride-month-and-always/\n",
      "https://codeup.com//accessibility/\n",
      "https://codeup.com//sitemap_index.xml\n"
     ]
    }
   ],
   "source": [
    "number = len(codeup_a_list)\n",
    "for i in range(number):\n",
    "    try: \n",
    "        if re.search(f'^/', codeup_a_list[i]['href']):\n",
    "            print_item = 'https://codeup.com/' + codeup_a_list[i]['href']\n",
    "        else: \n",
    "            print_item = (i, codeup_a_list[i]['href'])\n",
    "    \n",
    "    except:\n",
    "        pass\n",
    "    \n",
    "    else:\n",
    "        print(print_item)\n",
    "        \n",
    "        \n",
    "        df = df.drop(index = [27,62])\n",
    "        df = df.reset_index()\n",
    "        df = df.drop(columns = ['index'])\n",
    "\n",
    "        df['webpage_content'] = webpage_list"
   ]
  },
  {
   "cell_type": "markdown",
   "id": "2b03e1d6-4b5c-4795-bcf2-2ce1717f3311",
   "metadata": {},
   "source": [
    "<div class = \"alert alert-block alert-warning\">\n",
    "    \n",
    "# 1. function to grab hyperlinks \n",
    "    \n",
    "# 2. function to remove the non-hyperlink entries"
   ]
  },
  {
   "cell_type": "code",
   "execution_count": 24,
   "id": "ba171e72-49f5-48ed-a77a-38b7e011d0ee",
   "metadata": {},
   "outputs": [],
   "source": [
    "def codeup_hyperlinks():\n",
    "    ''' \n",
    "    This function will scrape hyperlinks from codeups main page and return a dataframe filled with\n",
    "    hyperlinks and the titles of the page.\n",
    "    It parses the response from codeup.com using beautiful soup, saving it into an article.\n",
    "    It then will search for all the A files, tossing the entries into a list. \n",
    "    Next, it will run through the list of A files, searching for href entries.\n",
    "    Those entries will be added to a dataframe with the title of the A file and whatever came after the href\n",
    "    '''\n",
    "    \n",
    "    # hard-coded starting points for our function\n",
    "    codeup_url = 'https://codeup.com/blog/'\n",
    "    headers = {'User-Agent': 'Codeup Data Science'}\n",
    "    response = get(codeup_url, headers=headers)\n",
    "    \n",
    "    # beautiful soup parsing for starting point\n",
    "    soup = BeautifulSoup(response.content, 'html.parser')\n",
    "    article = soup.find('div', id='main-content')\n",
    "    \n",
    "    # a list of all the items which are found on the codeup_url\n",
    "    # it will contain hyperlinks under the reference 'href' used later\n",
    "    codeup_a_list = soup.find_all('a')\n",
    "    \n",
    "    # creating empty dataframe\n",
    "    df = pd.DataFrame(columns = ['title', 'url'])\n",
    "    # getting the length of the list created above\n",
    "    number = len(codeup_a_list)\n",
    "\n",
    "    for i in range(number):\n",
    "\n",
    "        try: \n",
    "            if re.search(f'^/', codeup_a_list[i]['href']):\n",
    "                url = 'https://codeup.com' + codeup_a_list[i]['href']\n",
    "            else: \n",
    "                url = (codeup_a_list[i]['href'])\n",
    "        except:\n",
    "            url = 'none'\n",
    "            title = codeup_a_list[i].text\n",
    "            df.loc[i] = [title, url]\n",
    "            pass\n",
    "        else:\n",
    "            title = codeup_a_list[i].text\n",
    "            df.loc[i] = [title, url]\n",
    "\n",
    "\n",
    "    return df"
   ]
  },
  {
   "cell_type": "code",
   "execution_count": 108,
   "id": "5bc82066-79c2-402b-b27a-7b1ff1f52d10",
   "metadata": {},
   "outputs": [],
   "source": [
    "def test1(arg=0):\n",
    "    '''\n",
    "    This function takes in a dataframe of potential hyperlinks with a column named 'url'.\n",
    "    It will clean up any items in the dataframe which do not actually contain hyperlinks beginning with http:// or https://\n",
    "    '''\n",
    "    if arg:\n",
    "        remove_url_list = arg\n",
    "        print('it worked', remove_url_list, arg)\n",
    "        print(len(remove_url_list))\n",
    "    else:\n",
    "        \n",
    "        print('it did not work', arg)"
   ]
  },
  {
   "cell_type": "code",
   "execution_count": 99,
   "id": "912db56c-60ed-4880-a887-dc82ce1e9efb",
   "metadata": {},
   "outputs": [],
   "source": [
    "def test(*arg ):\n",
    "    '''\n",
    "    This function takes in a dataframe of potential hyperlinks with a column named 'url'.\n",
    "    It will clean up any items in the dataframe which do not actually contain hyperlinks beginning with http:// or https://\n",
    "    '''\n",
    "    if arg:\n",
    "        remove_url_list = arg\n",
    "        print(remove_url_list)\n",
    "        print(len(remove_url_list))"
   ]
  },
  {
   "cell_type": "code",
   "execution_count": 102,
   "id": "72e1c1b3-4682-4cb4-9129-9238a5e5554a",
   "metadata": {},
   "outputs": [
    {
     "data": {
      "text/plain": [
       "([10, 34, 60, 61, 62, 63, 85], 7)"
      ]
     },
     "execution_count": 102,
     "metadata": {},
     "output_type": "execute_result"
    }
   ],
   "source": [
    "no_content_list, len(no_content_list)"
   ]
  },
  {
   "cell_type": "code",
   "execution_count": 109,
   "id": "34caf522-a1f4-4fb7-9ec3-ef3f2f8f2574",
   "metadata": {},
   "outputs": [
    {
     "name": "stdout",
     "output_type": "stream",
     "text": [
      "it worked [10, 34, 60, 61, 62, 63, 85] [10, 34, 60, 61, 62, 63, 85]\n",
      "7\n"
     ]
    }
   ],
   "source": [
    "test1(no_content_list)"
   ]
  },
  {
   "cell_type": "code",
   "execution_count": 110,
   "id": "5068d07c-6bff-4d69-b994-86b4b61b4216",
   "metadata": {},
   "outputs": [
    {
     "name": "stdout",
     "output_type": "stream",
     "text": [
      "it did not work 0\n"
     ]
    }
   ],
   "source": [
    "test1()"
   ]
  },
  {
   "cell_type": "code",
   "execution_count": 101,
   "id": "6cfd3079-3bb0-4e2c-a5c6-59768b43776a",
   "metadata": {},
   "outputs": [
    {
     "name": "stdout",
     "output_type": "stream",
     "text": [
      "([10, 34, 60, 61, 62, 63, 85],)\n",
      "1\n"
     ]
    }
   ],
   "source": [
    "test(no_content_list)"
   ]
  },
  {
   "cell_type": "code",
   "execution_count": 113,
   "id": "af24c865-311a-409b-b2c3-220ce3dc616f",
   "metadata": {},
   "outputs": [],
   "source": [
    "def clean_hyperlinks(df, arg=0):\n",
    "    '''\n",
    "    This function takes in a dataframe of potential hyperlinks with a column named 'url'.\n",
    "    It will clean up any items in the dataframe which do not actually contain hyperlinks beginning with http:// or https://\n",
    "    '''\n",
    "    if arg:\n",
    "        remove_url_list = arg\n",
    "    \n",
    "    else:\n",
    "        remove_url_list = []\n",
    "    \n",
    "        try:\n",
    "            for item in range(df.shape[0]):\n",
    "                if re.search(f'^[^h]', df['url'].loc[item]):\n",
    "                    remove_url_list.append(item)\n",
    "\n",
    "        except:\n",
    "            pass            \n",
    "   \n",
    "    df = df.drop(index = remove_url_list)\n",
    "    df = df.reset_index()\n",
    "    df = df.drop(columns = ['index'])\n",
    "    \n",
    "    return df"
   ]
  },
  {
   "cell_type": "code",
   "execution_count": 115,
   "id": "56d8c629-9dc4-4eb2-9d68-177d2648ecb9",
   "metadata": {},
   "outputs": [
    {
     "data": {
      "text/plain": [
       "([10, 34, 60, 61, 62, 63, 85], 79, 86, 79)"
      ]
     },
     "execution_count": 115,
     "metadata": {},
     "output_type": "execute_result"
    }
   ],
   "source": [
    "no_content_list, len(webpage_list), codeup_blog_df.shape[0], test_df.shape[0]"
   ]
  },
  {
   "cell_type": "code",
   "execution_count": 114,
   "id": "96b4db9e-240f-45d8-a5e3-92b195984102",
   "metadata": {},
   "outputs": [],
   "source": [
    "test_df = clean_hyperlinks(codeup_blog_df, no_content_list)"
   ]
  },
  {
   "cell_type": "code",
   "execution_count": null,
   "id": "8489e32b-4bd8-4e0d-a25d-a8341ce57427",
   "metadata": {},
   "outputs": [],
   "source": []
  },
  {
   "cell_type": "code",
   "execution_count": 74,
   "id": "4e0b0ca5-cf2b-40ab-a779-c169ef9dbf93",
   "metadata": {},
   "outputs": [
    {
     "name": "stdout",
     "output_type": "stream",
     "text": [
      "<class 'pandas.core.frame.DataFrame'>\n",
      "RangeIndex: 86 entries, 0 to 85\n",
      "Data columns (total 2 columns):\n",
      " #   Column  Non-Null Count  Dtype \n",
      "---  ------  --------------  ----- \n",
      " 0   title   86 non-null     object\n",
      " 1   url     86 non-null     object\n",
      "dtypes: object(2)\n",
      "memory usage: 1.5+ KB\n"
     ]
    }
   ],
   "source": [
    "codeup_blog_df = codeup_hyperlinks()\n",
    "codeup_blog_df = clean_hyperlinks(codeup_blog_df)\n",
    "codeup_blog_df.info()"
   ]
  },
  {
   "cell_type": "markdown",
   "id": "76db04a5-5c45-4cbe-a9b5-9eb6711ce890",
   "metadata": {},
   "source": [
    "### testing output from two functions:"
   ]
  },
  {
   "cell_type": "code",
   "execution_count": 29,
   "id": "bf0b8461-1f1d-48a4-9b61-92b6b199bf4a",
   "metadata": {
    "scrolled": true,
    "tags": []
   },
   "outputs": [
    {
     "name": "stdout",
     "output_type": "stream",
     "text": [
      "0 Yes url https://codeup.com/\n",
      "1 Yes url https://codeup.com/program/cloud-adminsitration/\n",
      "2 Yes url https://codeup.com/program/full-stack-web-development/\n",
      "3 Yes url https://codeup.com/program/data-science/\n",
      "4 Yes url https://codeup.com/events/\n",
      "5 Yes url https://codeup.com/san-antonio-events/\n",
      "6 Yes url https://codeup.com/dallas-events/\n",
      "7 Yes url https://codeup.com/financial-aid/\n",
      "8 Yes url https://codeup.com/veterans/\n",
      "9 Yes url https://codeup.com/hire-tech-talent/\n",
      "10 Yes url https://alumni.codeup.com/\n",
      "11 Yes url https://codeup.com/resources/\n",
      "12 Yes url https://codeup.com/my-story/\n",
      "13 Yes url https://codeup.com/blog/\n",
      "14 Yes url https://codeup.com/frequently-asked-questions/\n",
      "15 Yes url https://codeup.com/podcast/\n",
      "16 Yes url https://codeup.com/apply-now/\n",
      "17 Yes url https://codeup.com/\n",
      "18 Yes url https://codeup.com/about-codeup/\n",
      "19 Yes url https://codeup.com/category/behind-the-billboards/\n",
      "20 Yes url https://codeup.com/careers/\n",
      "21 Yes url https://codeup.com/index.php/\n",
      "22 Yes url https://codeup.com/programs/\n",
      "23 Yes url https://codeup.com/program/cloud-administration/\n",
      "24 Yes url https://codeup.com/program/full-stack-web-development/\n",
      "25 Yes url https://codeup.com/program/data-science/\n",
      "26 Yes url https://codeup.com/financial-aid/\n",
      "27 Yes url https://codeup.com/san-antonio-events/\n",
      "28 Yes url https://codeup.com/dallas-events/\n",
      "29 Yes url https://codeup.com/veterans/\n",
      "30 Yes url https://codeup.com/san-antonio/\n",
      "31 Yes url https://codeup.com/dallas/\n",
      "32 Yes url https://codeup.com/hire-tech-talent/\n",
      "33 Yes url https://codeup.com/hire-tech-talent/\n",
      "34 Yes url https://alumni.codeup.com/\n",
      "35 Yes url https://codeup.com/resources/\n",
      "36 Yes url https://codeup.com/my-story/\n",
      "37 Yes url https://codeup.com/blog/\n",
      "38 Yes url https://codeup.com/frequently-asked-questions/\n",
      "39 Yes url https://codeup.com/podcast/\n",
      "40 Yes url https://codeup.com/apply-now/\n",
      "41 Yes url https://codeup.com/data-science/become-a-data-scientist/\n",
      "42 Yes url https://codeup.com/data-science/become-a-data-scientist/\n",
      "43 Yes url https://codeup.com/data-science/become-a-data-scientist/\n",
      "44 Yes url https://codeup.com/employers/hiring-tech-talent/\n",
      "45 Yes url https://codeup.com/employers/hiring-tech-talent/\n",
      "46 Yes url https://codeup.com/employers/hiring-tech-talent/\n",
      "47 Yes url https://codeup.com/cloud-administration/cap-funding-options/\n",
      "48 Yes url https://codeup.com/cloud-administration/cap-funding-options/\n",
      "49 Yes url https://codeup.com/cloud-administration/cap-funding-options/\n",
      "50 Yes url https://codeup.com/dallas-info/it-professionals-dallas/\n",
      "51 Yes url https://codeup.com/dallas-info/it-professionals-dallas/\n",
      "52 Yes url https://codeup.com/dallas-info/it-professionals-dallas/\n",
      "53 Yes url https://codeup.com/codeup-news/codeup-voted-1-technical-school-in-dfw/\n",
      "54 Yes url https://codeup.com/codeup-news/codeup-voted-1-technical-school-in-dfw/\n",
      "55 Yes url https://codeup.com/codeup-news/codeup-voted-1-technical-school-in-dfw/\n",
      "56 Yes url https://codeup.com/tips-for-prospective-students/financing/codeups-scholarships/\n",
      "57 Yes url https://codeup.com/tips-for-prospective-students/financing/codeups-scholarships/\n",
      "58 Yes url https://codeup.com/tips-for-prospective-students/financing/codeups-scholarships/\n",
      "59 Yes url https://codeup.com/blog/page/2/?et_blog\n",
      "60 Yes url https://www.facebook.com/GoCodeup/\n",
      "61 Yes url https://twitter.com/gocodeup\n",
      "62 Yes url https://www.instagram.com/gocodeup/?hl=en\n",
      "63 Yes url https://www.linkedin.com/school/3799914\n",
      "64 Yes url https://codeup.com/podcast/\n",
      "65 Yes url https://codeup.com/dallas\n",
      "66 Yes url https://codeup.com/san-antonio\n",
      "67 Yes url https://codeup.com/index.php/\n",
      "68 Yes url https://codeup.com/why-codeup/\n",
      "69 Yes url https://codeup.com/financial-aid/\n",
      "70 Yes url https://codeup.com/my-story/\n",
      "71 Yes url https://codeup.com/hire-tech-talent/\n",
      "72 Yes url https://codeup.com/refund/\n",
      "73 Yes url https://codeup.com/frequently-asked-questions/\n",
      "74 Yes url https://codeup.com/careers/\n",
      "75 Yes url https://codeup.com/pr/\n",
      "76 Yes url https://codeup.com/program/full-stack-web-development/\n",
      "77 Yes url https://codeup.com/program/data-science/\n",
      "78 Yes url https://codeup.com/cloud-administration/\n",
      "79 Yes url https://codeup.com/free/\n",
      "80 Yes url https://codeup.com/apply-now/\n",
      "81 Yes url https://codeup.com/privacy/\n",
      "82 Yes url https://codeup.com/student-complaint-policy/\n",
      "83 Yes url https://codeup.com/codeup-news/inclusion-at-codeup-during-pride-month-and-always/\n",
      "84 Yes url https://codeup.com/accessibility/\n",
      "85 Yes url https://codeup.com/sitemap_index.xml\n",
      "[]\n"
     ]
    }
   ],
   "source": [
    "not_url_list = []\n",
    "for item in range(df.shape[0]):\n",
    "    if re.search(f'^[^h]', codeup_blog_df['url'].loc[item]):\n",
    "        not_url_list.append(item)\n",
    "        print(item, ' No url', codeup_blog_df['url'].loc[item])\n",
    "    else:\n",
    "        print(item, 'Yes url', codeup_blog_df['url'].loc[item])\n",
    "print(not_url_list)"
   ]
  },
  {
   "cell_type": "markdown",
   "id": "e5f4bfb0-95af-4dc2-9baf-62966bb98534",
   "metadata": {},
   "source": [
    "## Testing content scraping from webpage and sticking it into a file"
   ]
  },
  {
   "cell_type": "code",
   "execution_count": 32,
   "id": "d6acdb89-44ae-46bc-b4cf-461bb13061b6",
   "metadata": {},
   "outputs": [],
   "source": [
    "webpage_content = {}\n",
    "url = codeup_blog_df['url'][5]\n",
    "headers = {'User-Agent' : 'Codeup Data Science'}\n",
    "response = get(url, headers = headers)\n",
    "soup = bs(response.text)\n",
    "main_content = soup.find('div', id='main-content')\n",
    "entry_content = soup.find('div', class_ ='entry-content')\n",
    "# did not end up having content in this exploration, maybe I'll find something with them later\n",
    "#entry_content = soup.find('div', id='entry-content')\n",
    "#blurb_description = soup.find('div', id='et_pb_blurb_description')\n",
    "webpage_content = main_content"
   ]
  },
  {
   "cell_type": "code",
   "execution_count": 33,
   "id": "99fa05e7-f07b-4c52-8ce2-85f55f234e5c",
   "metadata": {},
   "outputs": [
    {
     "data": {
      "text/plain": [
       "'\\n\\n\\n\\n\\n\\nWorkshops & Events | San Antonio\\nEver wanted to learn to code but don’t know where to start?  We understand, which is why we focus on what employers are actually looking for.  If you’re a beginner with no experience or experienced and want to dive deeper into the different programs – these workshops are for you. Our workshops fill up fast so register for FREE today!\\n\\nUpcoming Workshops\\n\\n\\n\\n\\n 21 January Codeup | Git-together Open HouseCodeup | Git-together Open HouseDate January 21Time 9:00 am - 11:00 amVenue  CodeupRegister Now 24 January Codeup | Learn To Code: What is Machine LearningCodeup | Learn To Code: What is Machine LearningDate January 24Time 6:00 pm - 7:30 pmVenue  CodeupRegister Now\\n\\n\\n\\n\\n\\n\\n\\n\\n\\n\\n\\n\\n\\n\\n\\n\\n\\n\\n\\n\\n\\n\\n\\n\\n\\n\\n\\n\\n\\n\\n\\n\\n\\n\\n\\n\\n\\n\\n\\n\\n\\n\\nGet First Dibs On Upcoming Workshops\\nSign up for the Codeup Newsletter below and get notified on upcoming events, workshops and Codeupdates.\\n\\n\\n\\n\\n\\n\\n\\n \\n\\n'"
      ]
     },
     "execution_count": 33,
     "metadata": {},
     "output_type": "execute_result"
    }
   ],
   "source": [
    "entry_content.text"
   ]
  },
  {
   "cell_type": "code",
   "execution_count": 34,
   "id": "2147306e-d239-4ec2-b004-81c89ec782ff",
   "metadata": {},
   "outputs": [
    {
     "data": {
      "text/plain": [
       "'\\n\\n\\n\\n\\n\\n\\n\\nWorkshops & Events | San Antonio\\nEver wanted to learn to code but don’t know where to start?  We understand, which is why we focus on what employers are actually looking for.  If you’re a beginner with no experience or experienced and want to dive deeper into the different programs – these workshops are for you. Our workshops fill up fast so register for FREE today!\\n\\nUpcoming Workshops\\n\\n\\n\\n\\n 21 January Codeup | Git-together Open HouseCodeup | Git-together Open HouseDate January 21Time 9:00 am - 11:00 amVenue  CodeupRegister Now 24 January Codeup | Learn To Code: What is Machine LearningCodeup | Learn To Code: What is Machine LearningDate January 24Time 6:00 pm - 7:30 pmVenue  CodeupRegister Now\\n\\n\\n\\n\\n\\n\\n\\n\\n\\n\\n\\n\\n\\n\\n\\n\\n\\n\\n\\n\\n\\n\\n\\n\\n\\n\\n\\n\\n\\n\\n\\n\\n\\n\\n\\n\\n\\n\\n\\n\\n\\n\\nGet First Dibs On Upcoming Workshops\\nSign up for the Codeup Newsletter below and get notified on upcoming events, workshops and Codeupdates.\\n\\n\\n\\n\\n\\n\\n\\n \\n\\n\\n\\n'"
      ]
     },
     "execution_count": 34,
     "metadata": {},
     "output_type": "execute_result"
    }
   ],
   "source": [
    "main_content.text"
   ]
  },
  {
   "cell_type": "code",
   "execution_count": 35,
   "id": "ec352831-ff16-47d0-91c2-7d5cb49b77bf",
   "metadata": {
    "scrolled": true,
    "tags": []
   },
   "outputs": [
    {
     "data": {
      "text/plain": [
       "<div id=\"main-content\">\n",
       "<article class=\"post-18194 page type-page status-publish hentry\" id=\"post-18194\">\n",
       "<div class=\"entry-content\">\n",
       "<div class=\"et-l et-l--post\">\n",
       "<div class=\"et_builder_inner_content et_pb_gutters3\"><div class=\"et_pb_section et_pb_section_0 et_section_regular\">\n",
       "<div class=\"et_pb_row et_pb_row_0 et_pb_equal_columns\">\n",
       "<div class=\"et_pb_column et_pb_column_4_4 et_pb_column_0 et_pb_css_mix_blend_mode_passthrough et-last-child\">\n",
       "<div class=\"et_pb_module et_pb_text et_pb_text_0 et_pb_text_align_left et_pb_bg_layout_dark\">\n",
       "<div class=\"et_pb_text_inner\"><h1>Workshops &amp; Events | San Antonio</h1>\n",
       "<p>Ever wanted to learn to code but don’t know where to start?  We understand, which is why we focus on what employers are actually looking for.  If you’re a beginner with no experience or experienced and want to dive deeper into the different programs – these workshops are for you. Our workshops fill up fast so register for FREE today!</p></div>\n",
       "</div><div class=\"et_pb_module et_pb_text et_pb_text_1 et_pb_text_align_left et_pb_bg_layout_dark\">\n",
       "<div class=\"et_pb_text_inner\"><h1>Upcoming Workshops</h1></div>\n",
       "</div><div class=\"et_pb_module decm_event_display decm_event_display_0 et_pb_bg_layout_\">\n",
       "<div class=\"et_pb_module_inner\">\n",
       "<style></style><div class=\"\">\n",
       "<div class=\"\">\n",
       "<div class=\"append_events row_equal row ecs-event-list event-display_style\" leftimage_rightdetail=\"\"><div class=\"col-lg-4 col-sm-12 col-xs-12 ecs-event ecs-event-posts clearfix san-antonio_ecs_category\" style=\"margin-top:; margin-bottom:\"><article class=\"act-post et_pb_with_border\" id=\"event_article_19534\" style=\";background:;margin-right:; margin-left:\"><div class=\"row\" style=\"\"> <div class=\"decm-show-image-center col-md-12\"><a class=\"\" href=\"https://codeup.com/event/codeup-git-together-open-house/\" target=\"_self\"><img alt=\"\" class=\"attachment-800x800 size-800x800 wp-post-image\" decoding=\"async\" height=\"400\" src=\"https://tribucodeup.wpenginepowered.com/wp-content/uploads/2023/01/07c002b8518fe7bdf694220a6d3b800d-Kj00wu.tmp_.jpg\" width=\"800\"/><div class=\"callout-box-grid\"><div class=\"callout_date\">21</div> <div class=\"callout_month\">January</div> </div></a></div><div class=\"col-md-12\"><div class=\"decm-events-details\"><h2 class=\"entry-title title1 summary\"><a class=\"\" href=\"https://codeup.com/event/codeup-git-together-open-house/\" rel=\"bookmark\" target=\"_self\">Codeup | Git-together Open House</a></h2><h4 class=\"entry-title title2 summary\"><a class=\"\" href=\"https://codeup.com/event/codeup-git-together-open-house/\" rel=\"bookmark\" target=\"_self\">Codeup | Git-together Open House</a></h4><div class=\"decm-show-detail-center\"><span class=\"decm-show-data-display-block ecs-eventDate duration time\"><span class=\"ecs-detail-label\">Date </span><span class=\"decm_date\">January 21</span></span><span class=\"decm-show-data-display-block ecs-eventTime duration time\"><span class=\"ecs-detail-label\">Time </span><span class=\"decm_date\">9:00 am - 11:00 am</span></span><span class=\"decm-show-data-display-block ecs-venue duration venue\"><span class=\"ecs-detail-label\">Venue </span><span class=\"decm_venue\"> Codeup</span></span></div><p class=\"ecs-showdetail et_pb_button_wrapper mb-2\"><a class=\"act-view-more et_pb_button et_pb_custom_button_icon\" data-icon=\"\" data-icon-phone=\"\" data-icon-tablet=\"\" href=\"https://codeup.com/event/codeup-git-together-open-house/\" rel=\"bookmark\" target=\"_self\">Register Now</a></p></div></div></div></article></div><div class=\"col-lg-4 col-sm-12 col-xs-12 ecs-event ecs-event-posts clearfix san-antonio_ecs_category\" style=\"margin-top:; margin-bottom:\"><article class=\"act-post et_pb_with_border\" id=\"event_article_19536\" style=\";background:;margin-right:; margin-left:\"><div class=\"row\" style=\"\"> <div class=\"decm-show-image-center col-md-12\"><a class=\"\" href=\"https://codeup.com/event/codeup-learn-to-code-what-is-machine-learning/\" target=\"_self\"><img alt=\"\" class=\"attachment-800x800 size-800x800 wp-post-image\" decoding=\"async\" height=\"400\" sizes=\"(min-width: 0px) and (max-width: 480px) 480px, (min-width: 481px) 800px, 100vw\" src=\"https://tribucodeup.wpenginepowered.com/wp-content/uploads/2023/01/125e254b1429563fd2f2b763e7b61270-IeLqVg.tmp_.jpg\" srcset=\"https://tribucodeup.wpenginepowered.com/wp-content/uploads/2023/01/125e254b1429563fd2f2b763e7b61270-IeLqVg.tmp_.jpg 800w, https://tribucodeup.wpenginepowered.com/wp-content/uploads/2023/01/125e254b1429563fd2f2b763e7b61270-IeLqVg.tmp_-480x240.jpg 480w\" width=\"800\"/><div class=\"callout-box-grid\"><div class=\"callout_date\">24</div> <div class=\"callout_month\">January</div> </div></a></div><div class=\"col-md-12\"><div class=\"decm-events-details\"><h2 class=\"entry-title title1 summary\"><a class=\"\" href=\"https://codeup.com/event/codeup-learn-to-code-what-is-machine-learning/\" rel=\"bookmark\" target=\"_self\">Codeup | Learn To Code: What is Machine Learning</a></h2><h4 class=\"entry-title title2 summary\"><a class=\"\" href=\"https://codeup.com/event/codeup-learn-to-code-what-is-machine-learning/\" rel=\"bookmark\" target=\"_self\">Codeup | Learn To Code: What is Machine Learning</a></h4><div class=\"decm-show-detail-center\"><span class=\"decm-show-data-display-block ecs-eventDate duration time\"><span class=\"ecs-detail-label\">Date </span><span class=\"decm_date\">January 24</span></span><span class=\"decm-show-data-display-block ecs-eventTime duration time\"><span class=\"ecs-detail-label\">Time </span><span class=\"decm_date\">6:00 pm - 7:30 pm</span></span><span class=\"decm-show-data-display-block ecs-venue duration venue\"><span class=\"ecs-detail-label\">Venue </span><span class=\"decm_venue\"> Codeup</span></span></div><p class=\"ecs-showdetail et_pb_button_wrapper mb-2\"><a class=\"act-view-more et_pb_button et_pb_custom_button_icon\" data-icon=\"\" data-icon-phone=\"\" data-icon-tablet=\"\" href=\"https://codeup.com/event/codeup-learn-to-code-what-is-machine-learning/\" rel=\"bookmark\" target=\"_self\">Register Now</a></p></div></div></div></article></div></div>\n",
       "<input id=\"eventfeed_prev_page\" name=\"eventfeed_prev_page\" type=\"hidden\" value=\"0\"/>\n",
       "<input id=\"eventfeed_current_page\" name=\"eventfeed_current_page\" type=\"hidden\" value=\"1\"/>\n",
       "<input id=\"eventfeed_page\" name=\"eventfeed_page\" type=\"hidden\" value=\"load_more\"/>\n",
       "<input id=\"eventfeed_current_pagination_page\" name=\"eventfeed_current_pagination_page\" type=\"hidden\" value=\"1\"/>\n",
       "<input id=\"module_css_feed\" name=\"module_css_feed\" type=\"hidden\" value=\"\"/>\n",
       "<input id=\"module-css-class\" name=\"module-css-class\" type=\"hidden\" value=\"\"/>\n",
       "<input id=\"dec-eventfeed-category\" name=\"dec-eventfeed-category\" type=\"hidden\" value=\"\"/>\n",
       "<input id=\"dec-eventfeed-tag\" name=\"dec-eventfeed-tag\" type=\"hidden\" value=\"\"/>\n",
       "<input id=\"dec-eventfeed-order\" name=\"dec-eventfeed-order\" type=\"hidden\" value=\"\"/>\n",
       "<input id=\"dec-eventfeed-venue\" name=\"dec-eventfeed-venue\" type=\"hidden\" value=\"\"/>\n",
       "<input id=\"dec-eventfeed-organizer\" name=\"dec-eventfeed-organizer\" type=\"hidden\" value=\"\"/>\n",
       "<input id=\"dec-filter-search\" name=\"dec-filter-search\" type=\"hidden\" value=\"\"/>\n",
       "<input id=\"dec-eventfeed-time\" name=\"dec-eventfeed-time\" type=\"hidden\" value=\"\"/>\n",
       "<input id=\"dec-eventfeed-day\" name=\"dec-eventfeed-day\" type=\"hidden\" value=\"\"/>\n",
       "<input id=\"dec-eventfeed-month\" name=\"dec-eventfeed-month\" type=\"hidden\" value=\"\"/>\n",
       "<input id=\"dec-eventfeed-year\" name=\"dec-eventfeed-year\" type=\"hidden\" value=\"\"/>\n",
       "<input id=\"dec-eventfeed-recurring\" name=\"dec-eventfeed-recurring\" type=\"hidden\" value=\"\"/>\n",
       "<input id=\"EventcostMin\" name=\"EventcostMin\" type=\"hidden\" value=\"\"/>\n",
       "<input id=\"EventcostMax\" name=\"EventcostMax\" type=\"hidden\" value=\"\"/>\n",
       "<input id=\"EventendDate\" name=\"EventendDate\" type=\"hidden\" value=\"\"/>\n",
       "<input id=\"EventstartDate\" name=\"EventstartDate\" type=\"hidden\" value=\"\"/>\n",
       "<input id=\"dec-eventfeed-country\" name=\"dec-eventfeed-country\" type=\"hidden\" value=\"\"/>\n",
       "<input id=\"dec-eventfeed-city\" name=\"dec-eventfeed-city\" type=\"hidden\" value=\"\"/>\n",
       "<input id=\"dec-eventfeed-state\" name=\"dec-eventfeed-state\" type=\"hidden\" value=\"\"/>\n",
       "<input id=\"dec-eventfeed-status\" name=\"dec-eventfeed-status\" type=\"hidden\" value=\"\"/>\n",
       "<input id=\"dec-eventfeed-address\" name=\"dec-eventfeed-address\" type=\"hidden\" value=\"\"/>\n",
       "<input id=\"dec-eventfeed-module-class\" name=\"dec-eventfeed-module-class\" type=\"hidden\" value=\".decm_event_display_0\"/>\n",
       "<input id=\"dec-eventfeed-page-translation\" name=\"dec-eventfeed-page-translation\" type=\"hidden\" value=\"Page\"/>\n",
       "<input id=\"dec-eventfeed-first-translation\" name=\"dec-eventfeed-first-translation\" type=\"hidden\" value=\"First\"/>\n",
       "<input id=\"dec-eventfeed-last-translation\" name=\"dec-eventfeed-last-translation\" type=\"hidden\" value=\"Last\"/>\n",
       "<input id=\"eventfeed_max_page\" name=\"eventfeed_max_page\" type=\"hidden\" value=\"1\"/><input id=\"eventfeed_load_img\" name=\"eventfeed_load_img\" type=\"hidden\" value=\"https://tribucodeup.wpenginepowered.com/wp-content/plugins/divi-event-calendar-module/includes/modules/EventDisplay/ajax-loader.gif\"/>\n",
       "</div>\n",
       "</div>\n",
       "<script>\n",
       "\n",
       "\t\t\t\t\n",
       "\t\t\t\tjQuery(document).ready(function($) {\n",
       "\n",
       "\n",
       "\t\t\t\t\t$('.ecs-event-pagination').on(\"click\", \"a\", function () {\n",
       "\t\t\t\t\t\tevent.preventDefault();\n",
       "\t\t\t\t\t\t$('#eventfeed_current_pagination_page').val();\n",
       "\t\t\t\t\t\t$(\"input[name='eventfeed_current_pagination_page']\").val($(this).attr(\"pn\"));\n",
       "\t\t\t\t\t});\t\t    \t\n",
       "\t\n",
       "\t\t\t\t\t$('.decm_event_display_0').addClass(\"\");\n",
       "\t\t\t\t\n",
       "\t\t\t\n",
       "\n",
       "\t\t\tvar setHeightColumns = function(){ \n",
       "\t\t\t\tvar column_loop_row = 0;\n",
       "\t\t\t\tvar column_height = 0;\n",
       "\t\t\t\tvar overlay_height = 0;\n",
       "\t\t\t\tvar ids = [];\n",
       "\t\t\t\tvar total_Count = 0;\n",
       "\t\t\t\tvar total_Events = jQuery('.decm_event_display_0 .ecs-event-posts').length; \n",
       "\t\t\t\tjQuery('.decm_event_display_0 .ecs-event-posts').each(function(){\n",
       "\t\t\t\t++column_loop_row;\n",
       "\t\t\t\t++total_Count;\n",
       "\t\t\t\tvar Event_id = jQuery(this).children('article')[0].id;\n",
       "\t\t\t\tids.push(Event_id);\n",
       "\t\t\t\tcolumn_height = jQuery(this).find('#'+Event_id).children('.row').height() >= column_height ? jQuery(this).find('#'+Event_id).children('.row').height() : column_height;\n",
       "\t\t\t\toverlay_height =\n",
       "\t\t\t\tjQuery(this).find('.decm-cover-overlay-details').height() >= overlay_height ? jQuery(this).find('.decm-cover-image-overlay').height() : overlay_height;\n",
       "\t\t\t\tif(column_loop_row == 3 || total_Count == total_Events)\n",
       "\t\t\t\t{      \n",
       "\t\t\t\t\tids.map(function(id,index){\n",
       "\t\t\t\t\t\tvar tempHeight = parseInt(column_height) - parseInt(jQuery('.decm_event_display_0 #'+id+' .row > div:first-child').height());jQuery('.decm_event_display_0 #'+id+' .row > div:last-child').css('height',tempHeight);var tempHeight = parseInt(column_height) - parseInt(jQuery('.decm_event_display_0 #'+id+' .row > div:first-child').height());jQuery('.decm_event_display_0 #'+id+' .row > div > div:last-child').css('height',tempHeight);\n",
       "\t\t\t\t\t\t\n",
       "\t\t\t\t\t});  \n",
       "\t\t\t\t\tcolumn_loop_row = 0;\n",
       "\t\t\t\t\tcolumn_height = 0;\n",
       "\t\t\t\t\tids = [];\n",
       "\t\t\t\t}\n",
       "\t\t\t\t});\n",
       "\t\t\t\tjQuery('.decm_event_display_0 p.ecs-showdetail').css({\"position\":\"absolute\",\"bottom\":\"10px\",\"width\":\"92%\" });\n",
       "\t\t\t}\n",
       "\t\tvar checkImagesLoad = function(){\n",
       "\t\t\n",
       "\t\t\n",
       "\t\tPromise.all(\n",
       "\t\t\tArray.from(jQuery(\".decm_event_display_0 .ecs-event-posts img\")).\n",
       "\t\t\t\tfilter(img => !img.complete).\n",
       "\t\t\t\tmap(img => new Promise(resolve => {\n",
       "\t\t\t\t\t\timg.onload = img.onerror = resolve; \n",
       "\t\t\t\t\t}))).then(() => {\n",
       "\t\t\t\t\t\tsetHeightColumns();\n",
       "\t\t\t\t\t});\n",
       "\t\t\t\t\t\n",
       "\t\t\t\t/*var imgs  = jQuery(\".decm_event_display_0_tb_body .ecs-event-posts img\"),\n",
       "\t\t\t\tlen = imgs.length,\n",
       "\t\t\t\tcounter = 0;\n",
       "\t\t\t\t[].forEach.call( imgs, function( img ) {\n",
       "\t\t\t\t\tif(img.complete)\n",
       "\t\t\t\t\t  incrementCounter();\n",
       "\t\t\t\t\telse\n",
       "\t\t\t\t\t  img.addEventListener( \"load\", incrementCounter, false );\n",
       "\t\t\t\t} );\n",
       "\n",
       "\t\t\t\tfunction incrementCounter() {\n",
       "\t\t\t\t\tcounter++;\n",
       "\t\t\t\t\tif ( counter === len ) {\n",
       "\t\t\t\t\t\tdebugger;\n",
       "\t\t\t\t\t\tsetHeightColumns();\n",
       "\t\t\t\t\t}\n",
       "\t\t\t\t}*/\n",
       "\t\t\t}\n",
       "\t\t\t\n",
       "\t\t\tsetTimeout(checkImagesLoad, 2000);\n",
       "\t\t\tjQuery(window).on('resize',function(){\n",
       "\t\t\t\tvar screenWidth = jQuery(this).width();\n",
       "\n",
       "\n",
       "\t\t\t\tif(screenWidth > 1199){\n",
       "\t\t\t\t\t\n",
       "\t\t\t\t\tif(document.readyState == 'complete')\n",
       "\t\t\t\t\t checkImagesLoad();\n",
       "\t\t\t\t}\n",
       "\t\t\t\telse{\n",
       "\t\t\t\t\tjQuery('.decm_event_display_0 .ecs-event-posts').each(function(){\n",
       "\t\t\t\t\t\tvar id = jQuery(this).children('article')[0].id;\n",
       "\t\t\t\t\t\t\n",
       "\t\tjQuery('.decm_event_display_0 #'+id+' .row > div:first-child').css('height','100%');\n",
       "\t\tjQuery('.decm_event_display_0 #'+id+' .row > div:last-child').css('height','100%');\n",
       "\t\tjQuery('.decm_event_display_0 p.ecs-showdetail').css({\"position\":\"unset\",\"width\":\"auto\" });\n",
       "\t\t\n",
       "\t\t\t\t\t\t});\n",
       "\t\t\t\t}\n",
       "\n",
       "\t\t\t});\t\n",
       "\n",
       "\t\t});\t\n",
       "\t\t\t</script>\n",
       "</div>\n",
       "</div>\n",
       "</div>\n",
       "</div><div class=\"et_pb_row et_pb_row_1\">\n",
       "<div class=\"et_pb_column et_pb_column_4_4 et_pb_column_1 et_pb_css_mix_blend_mode_passthrough et-last-child\">\n",
       "<div class=\"et_pb_module et_pb_code et_pb_code_0\">\n",
       "<div class=\"et_pb_code_inner\"><a name=\"newsletter\"></a></div>\n",
       "</div><div class=\"et_pb_module et_pb_text et_pb_text_2 et_pb_text_align_left et_pb_bg_layout_dark\">\n",
       "<div class=\"et_pb_text_inner\"><h2 style=\"text-align: center;\">Get First Dibs On Upcoming Workshops</h2>\n",
       "<p style=\"text-align: center;\">Sign up for the Codeup Newsletter below and get notified on upcoming events, workshops and <em>Codeup</em>dates.</p></div>\n",
       "</div><div class=\"et_pb_module et_pb_code et_pb_code_1\">\n",
       "<div class=\"et_pb_code_inner\">\n",
       "<script>\n",
       "\t\t\t\t\t\twindow.hsFormsOnReady = window.hsFormsOnReady || [];\n",
       "\t\t\t\t\t\twindow.hsFormsOnReady.push(()=>{\n",
       "\t\t\t\t\t\t\thbspt.forms.create({\n",
       "\t\t\t\t\t\t\t\tportalId: 2817329,\n",
       "\t\t\t\t\t\t\t\tformId: \"914dd8d5-4f03-4a05-9b04-f17e9db7f2f9\",\n",
       "\t\t\t\t\t\t\t\ttarget: \"#hbspt-form-1673295848000-5014772289\",\n",
       "\t\t\t\t\t\t\t\tregion: \"\",\n",
       "\t\t\t\t\t\t\t\t\n",
       "\t\t\t\t\t\t})});\n",
       "\t\t\t\t\t</script>\n",
       "<div class=\"hbspt-form\" id=\"hbspt-form-1673295848000-5014772289\"></div></div>\n",
       "</div>\n",
       "</div>\n",
       "</div>\n",
       "</div> </div>\n",
       "</div>\n",
       "</div>\n",
       "</article>\n",
       "</div>"
      ]
     },
     "execution_count": 35,
     "metadata": {},
     "output_type": "execute_result"
    }
   ],
   "source": [
    "webpage_content"
   ]
  },
  {
   "cell_type": "code",
   "execution_count": 110,
   "id": "deefb71d-9da1-4665-8330-8158397ec98f",
   "metadata": {},
   "outputs": [
    {
     "name": "stdout",
     "output_type": "stream",
     "text": [
      "webpage_content_dict0\n",
      "webpage_content_dict1\n",
      "webpage_content_dict2\n",
      "webpage_content_dict3\n",
      "webpage_content_dict4\n"
     ]
    }
   ],
   "source": [
    "for num in range(5):\n",
    "    dict_name = 'webpage_content_dict' + f'{num}'\n",
    "    print(dict_name)"
   ]
  },
  {
   "cell_type": "markdown",
   "id": "69e7e1d1-5612-45c1-904d-4d9757b27677",
   "metadata": {},
   "source": [
    "<div class = \"alert alert-block alert-warning\">\n",
    "    \n",
    "# Do not use this function in the py file! It is to remember how I used the previous link df to scrape webpages of content"
   ]
  },
  {
   "cell_type": "code",
   "execution_count": 131,
   "id": "eb3cf1e4-3fd9-47aa-a058-769a458af11b",
   "metadata": {},
   "outputs": [],
   "source": [
    "def scrape_codeup_webpages(df):\n",
    "\n",
    "    number = df.shape[0]\n",
    "    webpage_list = []\n",
    "    no_content_list = []\n",
    "    for num in range(number):\n",
    "\n",
    "        try: \n",
    "            url = df['url'][num]\n",
    "            headers = {'User-Agent' : 'Codeup Data Science'}\n",
    "            \n",
    "            # using a header which may allow scraping\n",
    "            response = get(url, headers = headers)\n",
    "            # using no header\n",
    "            #response = get(url)\n",
    "            \n",
    "            soup = BeautifulSoup(response.text, 'html.parser')\n",
    "            #main_content = soup.find('div', id='main-content')\n",
    "            entry_content = soup.find('div', class_ ='entry-content')\n",
    "            title = codeup_blog_df['title'][num]\n",
    "            url   = codeup_blog_df['url'][num]\n",
    "            \n",
    "            webpage_content = entry_content.text.strip()\n",
    "            \n",
    "        except:\n",
    "            no_content_list.append(num)\n",
    "            pass\n",
    "                \n",
    "        \n",
    "        else:\n",
    "            dictionary = {}\n",
    "            dictionary['name'] = f'webpage_content_dictionary_{num}'\n",
    "            dictionary = {\n",
    "                'title': title,\n",
    "                'url' : url,\n",
    "                'num' : webpage_content\n",
    "            }\n",
    "            webpage_list.append(dictionary)\n",
    "\n",
    "    return webpage_list\n"
   ]
  },
  {
   "cell_type": "code",
   "execution_count": 84,
   "id": "27b8705c-cd87-4faf-be52-1cf5baea0ef0",
   "metadata": {},
   "outputs": [
    {
     "data": {
      "text/plain": [
       "[10, 34, 60, 61, 62, 63, 85]"
      ]
     },
     "execution_count": 84,
     "metadata": {},
     "output_type": "execute_result"
    }
   ],
   "source": [
    "no_content_list"
   ]
  },
  {
   "cell_type": "code",
   "execution_count": 80,
   "id": "ad5ec489-0c58-44fd-b9cc-3bd4ad9e4354",
   "metadata": {},
   "outputs": [
    {
     "data": {
      "text/plain": [
       "79"
      ]
     },
     "execution_count": 80,
     "metadata": {},
     "output_type": "execute_result"
    }
   ],
   "source": [
    "len(webpage_list)"
   ]
  },
  {
   "cell_type": "code",
   "execution_count": 75,
   "id": "f4d4ac5a-3f8a-44e6-b7d0-8e4bcb4441d4",
   "metadata": {},
   "outputs": [
    {
     "data": {
      "text/plain": [
       "(79, (86, 2))"
      ]
     },
     "execution_count": 75,
     "metadata": {},
     "output_type": "execute_result"
    }
   ],
   "source": [
    "len(webpage_list), codeup_blog_df.shape"
   ]
  },
  {
   "cell_type": "markdown",
   "id": "8f399122-7af0-461f-aeaa-26f9d746f33b",
   "metadata": {},
   "source": [
    "## I don't like navigating lists and pandas dataframes are superior users of memory, so I am going to stick this list into a new column of my codeup_blog_df"
   ]
  },
  {
   "cell_type": "code",
   "execution_count": 139,
   "id": "932b09db-f57e-4825-87c5-ea06b42dd893",
   "metadata": {},
   "outputs": [
    {
     "data": {
      "text/plain": [
       "Index(['title', 'url', 'webpage_content'], dtype='object')"
      ]
     },
     "execution_count": 139,
     "metadata": {},
     "output_type": "execute_result"
    }
   ],
   "source": [
    "codeup_blog_df.columns"
   ]
  },
  {
   "cell_type": "code",
   "execution_count": null,
   "id": "be1353b8-3fe7-44b8-a627-45c1a432bb39",
   "metadata": {},
   "outputs": [],
   "source": []
  },
  {
   "cell_type": "markdown",
   "id": "1f1865ae-6dfd-41ff-b4da-2469049ad908",
   "metadata": {},
   "source": [
    "<div class = \"alert alert-block alert-warning\">\n",
    "\n",
    "\n",
    "# Rewriting my function to incorporate both functions written above. \n",
    "- The first function is required (scrape_codeup_blog)\n",
    "- The second function is rewritten to spit out a list or a dataframe "
   ]
  },
  {
   "cell_type": "code",
   "execution_count": 126,
   "id": "47dd497b-db2c-462a-92c5-7ee677a248fc",
   "metadata": {},
   "outputs": [],
   "source": [
    "def scrape_codeup():\n",
    "\n",
    "    df = codeup_hyperlinks()\n",
    "    df = clean_hyperlinks(df)\n",
    "    webpage_list = scrape_codeup_webpages(df)\n",
    "    df = pd.DataFrame(webpage_list)\n",
    "        \n",
    "    return df"
   ]
  },
  {
   "cell_type": "code",
   "execution_count": 130,
   "id": "c4121dc6-b2ba-486a-8cb2-d3336fd610b4",
   "metadata": {},
   "outputs": [
    {
     "name": "stderr",
     "output_type": "stream",
     "text": [
      "/usr/local/anaconda3/lib/python3.9/site-packages/bs4/builder/__init__.py:545: XMLParsedAsHTMLWarning: It looks like you're parsing an XML document using an HTML parser. If this really is an HTML document (maybe it's XHTML?), you can ignore or filter this warning. If it's XML, you should know that using an XML parser will be more reliable. To parse this document as XML, make sure you have the lxml package installed, and pass the keyword argument `features=\"xml\"` into the BeautifulSoup constructor.\n",
      "  warnings.warn(\n"
     ]
    },
    {
     "data": {
      "text/html": [
       "<div>\n",
       "<style scoped>\n",
       "    .dataframe tbody tr th:only-of-type {\n",
       "        vertical-align: middle;\n",
       "    }\n",
       "\n",
       "    .dataframe tbody tr th {\n",
       "        vertical-align: top;\n",
       "    }\n",
       "\n",
       "    .dataframe thead th {\n",
       "        text-align: right;\n",
       "    }\n",
       "</style>\n",
       "<table border=\"1\" class=\"dataframe\">\n",
       "  <thead>\n",
       "    <tr style=\"text-align: right;\">\n",
       "      <th></th>\n",
       "      <th>title</th>\n",
       "      <th>url</th>\n",
       "      <th>num</th>\n",
       "    </tr>\n",
       "  </thead>\n",
       "  <tbody>\n",
       "    <tr>\n",
       "      <th>0</th>\n",
       "      <td>Home</td>\n",
       "      <td>https://codeup.com/</td>\n",
       "      <td>Launch Your Career in tech.\\n\\nGo from no expe...</td>\n",
       "    </tr>\n",
       "    <tr>\n",
       "      <th>1</th>\n",
       "      <td>San Antonio</td>\n",
       "      <td>https://codeup.com/san-antonio-events/</td>\n",
       "      <td>Workshops &amp; Events | San Antonio\\nEver wanted ...</td>\n",
       "    </tr>\n",
       "    <tr>\n",
       "      <th>2</th>\n",
       "      <td>Dallas</td>\n",
       "      <td>https://codeup.com/dallas-events/</td>\n",
       "      <td>Workshops &amp; Events | Dallas\\nEver wanted to le...</td>\n",
       "    </tr>\n",
       "    <tr>\n",
       "      <th>3</th>\n",
       "      <td>Financial Aid</td>\n",
       "      <td>https://codeup.com/financial-aid/</td>\n",
       "      <td>Investing in your future\\nSelf-Pay, Loans, Gra...</td>\n",
       "    </tr>\n",
       "    <tr>\n",
       "      <th>4</th>\n",
       "      <td>Military</td>\n",
       "      <td>https://codeup.com/veterans/</td>\n",
       "      <td>Our Mission is To Create Life Change\\nSupporti...</td>\n",
       "    </tr>\n",
       "  </tbody>\n",
       "</table>\n",
       "</div>"
      ],
      "text/plain": [
       "           title                                     url  \\\n",
       "0           Home                     https://codeup.com/   \n",
       "1    San Antonio  https://codeup.com/san-antonio-events/   \n",
       "2         Dallas       https://codeup.com/dallas-events/   \n",
       "3  Financial Aid       https://codeup.com/financial-aid/   \n",
       "4       Military            https://codeup.com/veterans/   \n",
       "\n",
       "                                                 num  \n",
       "0  Launch Your Career in tech.\\n\\nGo from no expe...  \n",
       "1  Workshops & Events | San Antonio\\nEver wanted ...  \n",
       "2  Workshops & Events | Dallas\\nEver wanted to le...  \n",
       "3  Investing in your future\\nSelf-Pay, Loans, Gra...  \n",
       "4  Our Mission is To Create Life Change\\nSupporti...  "
      ]
     },
     "execution_count": 130,
     "metadata": {},
     "output_type": "execute_result"
    }
   ],
   "source": [
    "codeup_blog_df = scrape_codeup()\n",
    "\n",
    "codeup_blog_df.head()"
   ]
  },
  {
   "cell_type": "code",
   "execution_count": 116,
   "id": "3d5499cf-8177-491c-8817-ca9536f830d8",
   "metadata": {},
   "outputs": [
    {
     "name": "stderr",
     "output_type": "stream",
     "text": [
      "/usr/local/anaconda3/lib/python3.9/site-packages/bs4/builder/__init__.py:545: XMLParsedAsHTMLWarning: It looks like you're parsing an XML document using an HTML parser. If this really is an HTML document (maybe it's XHTML?), you can ignore or filter this warning. If it's XML, you should know that using an XML parser will be more reliable. To parse this document as XML, make sure you have the lxml package installed, and pass the keyword argument `features=\"xml\"` into the BeautifulSoup constructor.\n",
      "  warnings.warn(\n"
     ]
    }
   ],
   "source": [
    "codeup_blog_df = codeup_hyperlinks()\n",
    "codeup_blog_df = clean_hyperlinks(codeup_blog_df)\n",
    "webpage_list, no_content_list = scrape_codeup_webpages(codeup_blog_df)\n",
    "codeup_blog_df = clean_hyperlinks(codeup_blog_df, no_content_list)\n",
    "codeup_blog_df['content'] = webpage_list"
   ]
  },
  {
   "cell_type": "code",
   "execution_count": null,
   "id": "05efacd9-98aa-433e-b066-5bdb8bbc603e",
   "metadata": {},
   "outputs": [],
   "source": [
    "codeup_blog_df = codeup_hyperlinks()\n",
    "codeup_blog_df = clean_hyperlinks(codeup_blog_df)\n",
    "webpage_list, no_content_list = scrape_codeup_webpages(codeup_blog_df)\n",
    "codeup_blog_df = clean_hyperlinks(codeup_blog_df, no_content_list)\n",
    "codeup_blog_df['content'] = codeup_blog_df['index'].map"
   ]
  },
  {
   "cell_type": "code",
   "execution_count": 119,
   "id": "9a399874-4bf0-4c98-b499-c02d8388cb33",
   "metadata": {},
   "outputs": [],
   "source": [
    "test_df = pd.DataFrame(webpage_list)"
   ]
  },
  {
   "cell_type": "code",
   "execution_count": 120,
   "id": "e8ee4839-f4db-4746-b350-f6f81400f9aa",
   "metadata": {},
   "outputs": [
    {
     "data": {
      "text/html": [
       "<div>\n",
       "<style scoped>\n",
       "    .dataframe tbody tr th:only-of-type {\n",
       "        vertical-align: middle;\n",
       "    }\n",
       "\n",
       "    .dataframe tbody tr th {\n",
       "        vertical-align: top;\n",
       "    }\n",
       "\n",
       "    .dataframe thead th {\n",
       "        text-align: right;\n",
       "    }\n",
       "</style>\n",
       "<table border=\"1\" class=\"dataframe\">\n",
       "  <thead>\n",
       "    <tr style=\"text-align: right;\">\n",
       "      <th></th>\n",
       "      <th>content</th>\n",
       "    </tr>\n",
       "  </thead>\n",
       "  <tbody>\n",
       "    <tr>\n",
       "      <th>0</th>\n",
       "      <td>\\n\\n\\n\\n\\n\\n\\n\\n\\nLaunch Your Career in tech.\\...</td>\n",
       "    </tr>\n",
       "    <tr>\n",
       "      <th>1</th>\n",
       "      <td>\\n\\n\\n\\n\\n\\n\\nBecome a Cloud Administrator tod...</td>\n",
       "    </tr>\n",
       "    <tr>\n",
       "      <th>2</th>\n",
       "      <td>\\n\\n\\n\\n\\n\\n\\nLearn to Code. Get Hired.\\n\\nFul...</td>\n",
       "    </tr>\n",
       "    <tr>\n",
       "      <th>3</th>\n",
       "      <td>\\n\\n\\n\\n\\n\\n\\nUse data to predict the future.\\...</td>\n",
       "    </tr>\n",
       "    <tr>\n",
       "      <th>4</th>\n",
       "      <td>\\n\\n\\n\\n\\n\\n\\nWorkshops &amp; Events\\n\\n\\n\\n\\n\\n\\n...</td>\n",
       "    </tr>\n",
       "  </tbody>\n",
       "</table>\n",
       "</div>"
      ],
      "text/plain": [
       "                                             content\n",
       "0  \\n\\n\\n\\n\\n\\n\\n\\n\\nLaunch Your Career in tech.\\...\n",
       "1  \\n\\n\\n\\n\\n\\n\\nBecome a Cloud Administrator tod...\n",
       "2  \\n\\n\\n\\n\\n\\n\\nLearn to Code. Get Hired.\\n\\nFul...\n",
       "3  \\n\\n\\n\\n\\n\\n\\nUse data to predict the future.\\...\n",
       "4  \\n\\n\\n\\n\\n\\n\\nWorkshops & Events\\n\\n\\n\\n\\n\\n\\n..."
      ]
     },
     "execution_count": 120,
     "metadata": {},
     "output_type": "execute_result"
    }
   ],
   "source": [
    "test_df.head()"
   ]
  },
  {
   "cell_type": "code",
   "execution_count": 124,
   "id": "aa2be091-bdb9-4c3a-955e-e372120fe142",
   "metadata": {},
   "outputs": [
    {
     "name": "stderr",
     "output_type": "stream",
     "text": [
      "/usr/local/anaconda3/lib/python3.9/site-packages/bs4/builder/__init__.py:545: XMLParsedAsHTMLWarning: It looks like you're parsing an XML document using an HTML parser. If this really is an HTML document (maybe it's XHTML?), you can ignore or filter this warning. If it's XML, you should know that using an XML parser will be more reliable. To parse this document as XML, make sure you have the lxml package installed, and pass the keyword argument `features=\"xml\"` into the BeautifulSoup constructor.\n",
      "  warnings.warn(\n"
     ]
    },
    {
     "data": {
      "text/html": [
       "<div>\n",
       "<style scoped>\n",
       "    .dataframe tbody tr th:only-of-type {\n",
       "        vertical-align: middle;\n",
       "    }\n",
       "\n",
       "    .dataframe tbody tr th {\n",
       "        vertical-align: top;\n",
       "    }\n",
       "\n",
       "    .dataframe thead th {\n",
       "        text-align: right;\n",
       "    }\n",
       "</style>\n",
       "<table border=\"1\" class=\"dataframe\">\n",
       "  <thead>\n",
       "    <tr style=\"text-align: right;\">\n",
       "      <th></th>\n",
       "      <th>title</th>\n",
       "      <th>url</th>\n",
       "      <th>num</th>\n",
       "    </tr>\n",
       "  </thead>\n",
       "  <tbody>\n",
       "    <tr>\n",
       "      <th>0</th>\n",
       "      <td>Home</td>\n",
       "      <td>https://codeup.com/</td>\n",
       "      <td>Launch Your Career in tech.\\n\\nGo from no expe...</td>\n",
       "    </tr>\n",
       "    <tr>\n",
       "      <th>1</th>\n",
       "      <td>Cloud Administration</td>\n",
       "      <td>https://codeup.com/program/cloud-adminsitration/</td>\n",
       "      <td>Become a Cloud Administrator today!\\n\\nCloud A...</td>\n",
       "    </tr>\n",
       "    <tr>\n",
       "      <th>2</th>\n",
       "      <td>Full Stack Web Development</td>\n",
       "      <td>https://codeup.com/program/full-stack-web-deve...</td>\n",
       "      <td>Learn to Code. Get Hired.\\n\\nFull Stack Web De...</td>\n",
       "    </tr>\n",
       "    <tr>\n",
       "      <th>3</th>\n",
       "      <td>Data Science</td>\n",
       "      <td>https://codeup.com/program/data-science/</td>\n",
       "      <td>Use data to predict the future.\\n\\nData Scienc...</td>\n",
       "    </tr>\n",
       "    <tr>\n",
       "      <th>4</th>\n",
       "      <td>Workshops</td>\n",
       "      <td>https://codeup.com/events/</td>\n",
       "      <td>Workshops &amp; Events\\n\\n\\n\\n\\n\\n\\n\\n\\n\\n\\n\\n\\n\\n...</td>\n",
       "    </tr>\n",
       "  </tbody>\n",
       "</table>\n",
       "</div>"
      ],
      "text/plain": [
       "                        title  \\\n",
       "0                        Home   \n",
       "1        Cloud Administration   \n",
       "2  Full Stack Web Development   \n",
       "3                Data Science   \n",
       "4                   Workshops   \n",
       "\n",
       "                                                 url  \\\n",
       "0                                https://codeup.com/   \n",
       "1   https://codeup.com/program/cloud-adminsitration/   \n",
       "2  https://codeup.com/program/full-stack-web-deve...   \n",
       "3           https://codeup.com/program/data-science/   \n",
       "4                         https://codeup.com/events/   \n",
       "\n",
       "                                                 num  \n",
       "0  Launch Your Career in tech.\\n\\nGo from no expe...  \n",
       "1  Become a Cloud Administrator today!\\n\\nCloud A...  \n",
       "2  Learn to Code. Get Hired.\\n\\nFull Stack Web De...  \n",
       "3  Use data to predict the future.\\n\\nData Scienc...  \n",
       "4  Workshops & Events\\n\\n\\n\\n\\n\\n\\n\\n\\n\\n\\n\\n\\n\\n...  "
      ]
     },
     "execution_count": 124,
     "metadata": {},
     "output_type": "execute_result"
    }
   ],
   "source": [
    "test_df = codeup_hyperlinks()\n",
    "test_df = clean_hyperlinks(test_df)\n",
    "webpage_list, no_content_list = scrape_codeup_webpages(test_df)\n",
    "test_df = pd.DataFrame(webpage_list)\n",
    "test_df.head()"
   ]
  },
  {
   "cell_type": "code",
   "execution_count": null,
   "id": "40d2a910-e18f-46c1-bbf9-2b9d18f08cbf",
   "metadata": {},
   "outputs": [],
   "source": []
  }
 ],
 "metadata": {
  "kernelspec": {
   "display_name": "Python 3 (ipykernel)",
   "language": "python",
   "name": "python3"
  },
  "language_info": {
   "codemirror_mode": {
    "name": "ipython",
    "version": 3
   },
   "file_extension": ".py",
   "mimetype": "text/x-python",
   "name": "python",
   "nbconvert_exporter": "python",
   "pygments_lexer": "ipython3",
   "version": "3.9.15"
  }
 },
 "nbformat": 4,
 "nbformat_minor": 5
}
